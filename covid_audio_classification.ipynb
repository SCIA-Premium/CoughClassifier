{
 "cells": [
  {
   "attachments": {},
   "cell_type": "markdown",
   "metadata": {},
   "source": [
    "# Preprocess the data"
   ]
  },
  {
   "cell_type": "code",
   "execution_count": 1,
   "metadata": {},
   "outputs": [
    {
     "data": {
      "text/html": [
       "<div>\n",
       "<style scoped>\n",
       "    .dataframe tbody tr th:only-of-type {\n",
       "        vertical-align: middle;\n",
       "    }\n",
       "\n",
       "    .dataframe tbody tr th {\n",
       "        vertical-align: top;\n",
       "    }\n",
       "\n",
       "    .dataframe thead th {\n",
       "        text-align: right;\n",
       "    }\n",
       "</style>\n",
       "<table border=\"1\" class=\"dataframe\">\n",
       "  <thead>\n",
       "    <tr style=\"text-align: right;\">\n",
       "      <th></th>\n",
       "      <th>id</th>\n",
       "      <th>a</th>\n",
       "      <th>covid_status</th>\n",
       "      <th>record_date</th>\n",
       "      <th>ep</th>\n",
       "      <th>g</th>\n",
       "      <th>l_c</th>\n",
       "      <th>l_l</th>\n",
       "      <th>l_s</th>\n",
       "      <th>rU</th>\n",
       "      <th>...</th>\n",
       "      <th>vacc</th>\n",
       "      <th>bd</th>\n",
       "      <th>others_resp</th>\n",
       "      <th>ftg</th>\n",
       "      <th>st</th>\n",
       "      <th>ihd</th>\n",
       "      <th>asthma</th>\n",
       "      <th>others_preexist</th>\n",
       "      <th>cld</th>\n",
       "      <th>pneumonia</th>\n",
       "    </tr>\n",
       "  </thead>\n",
       "  <tbody>\n",
       "    <tr>\n",
       "      <th>0</th>\n",
       "      <td>iV3Db6t1T8b7c5HQY2TwxIhjbzD3</td>\n",
       "      <td>28</td>\n",
       "      <td>healthy</td>\n",
       "      <td>2020-04-23</td>\n",
       "      <td>y</td>\n",
       "      <td>male</td>\n",
       "      <td>India</td>\n",
       "      <td>Anantapur</td>\n",
       "      <td>Andhra Pradesh</td>\n",
       "      <td>n</td>\n",
       "      <td>...</td>\n",
       "      <td>NaN</td>\n",
       "      <td>NaN</td>\n",
       "      <td>NaN</td>\n",
       "      <td>NaN</td>\n",
       "      <td>NaN</td>\n",
       "      <td>NaN</td>\n",
       "      <td>NaN</td>\n",
       "      <td>NaN</td>\n",
       "      <td>NaN</td>\n",
       "      <td>NaN</td>\n",
       "    </tr>\n",
       "    <tr>\n",
       "      <th>1</th>\n",
       "      <td>AxuYWBN0jFVLINCBqIW5aZmGCdu1</td>\n",
       "      <td>25</td>\n",
       "      <td>healthy</td>\n",
       "      <td>2020-04-20</td>\n",
       "      <td>y</td>\n",
       "      <td>male</td>\n",
       "      <td>India</td>\n",
       "      <td>BENGALURU URBAN</td>\n",
       "      <td>Karnataka</td>\n",
       "      <td>n</td>\n",
       "      <td>...</td>\n",
       "      <td>NaN</td>\n",
       "      <td>NaN</td>\n",
       "      <td>NaN</td>\n",
       "      <td>NaN</td>\n",
       "      <td>NaN</td>\n",
       "      <td>NaN</td>\n",
       "      <td>NaN</td>\n",
       "      <td>NaN</td>\n",
       "      <td>NaN</td>\n",
       "      <td>NaN</td>\n",
       "    </tr>\n",
       "    <tr>\n",
       "      <th>2</th>\n",
       "      <td>C5eIsssb9GSkaAgIfsHMHeR6fSh1</td>\n",
       "      <td>28</td>\n",
       "      <td>healthy</td>\n",
       "      <td>2020-04-24</td>\n",
       "      <td>y</td>\n",
       "      <td>female</td>\n",
       "      <td>United States</td>\n",
       "      <td>Pittsburgh</td>\n",
       "      <td>Pennsylvania</td>\n",
       "      <td>n</td>\n",
       "      <td>...</td>\n",
       "      <td>NaN</td>\n",
       "      <td>NaN</td>\n",
       "      <td>NaN</td>\n",
       "      <td>NaN</td>\n",
       "      <td>NaN</td>\n",
       "      <td>NaN</td>\n",
       "      <td>NaN</td>\n",
       "      <td>NaN</td>\n",
       "      <td>NaN</td>\n",
       "      <td>NaN</td>\n",
       "    </tr>\n",
       "    <tr>\n",
       "      <th>3</th>\n",
       "      <td>YjbEAECMBIaZKyfqOvWy5DDImUb2</td>\n",
       "      <td>26</td>\n",
       "      <td>healthy</td>\n",
       "      <td>2020-04-23</td>\n",
       "      <td>y</td>\n",
       "      <td>male</td>\n",
       "      <td>India</td>\n",
       "      <td>Bangalore</td>\n",
       "      <td>Karnataka</td>\n",
       "      <td>n</td>\n",
       "      <td>...</td>\n",
       "      <td>NaN</td>\n",
       "      <td>NaN</td>\n",
       "      <td>NaN</td>\n",
       "      <td>NaN</td>\n",
       "      <td>NaN</td>\n",
       "      <td>NaN</td>\n",
       "      <td>NaN</td>\n",
       "      <td>NaN</td>\n",
       "      <td>NaN</td>\n",
       "      <td>NaN</td>\n",
       "    </tr>\n",
       "    <tr>\n",
       "      <th>4</th>\n",
       "      <td>aGOvk4ji0cVqIzCs1jHnzlw2UEy2</td>\n",
       "      <td>32</td>\n",
       "      <td>healthy</td>\n",
       "      <td>2020-04-22</td>\n",
       "      <td>y</td>\n",
       "      <td>male</td>\n",
       "      <td>India</td>\n",
       "      <td>Nalanda</td>\n",
       "      <td>Bihar</td>\n",
       "      <td>n</td>\n",
       "      <td>...</td>\n",
       "      <td>NaN</td>\n",
       "      <td>NaN</td>\n",
       "      <td>NaN</td>\n",
       "      <td>NaN</td>\n",
       "      <td>NaN</td>\n",
       "      <td>NaN</td>\n",
       "      <td>NaN</td>\n",
       "      <td>NaN</td>\n",
       "      <td>NaN</td>\n",
       "      <td>NaN</td>\n",
       "    </tr>\n",
       "  </tbody>\n",
       "</table>\n",
       "<p>5 rows × 36 columns</p>\n",
       "</div>"
      ],
      "text/plain": [
       "                             id   a covid_status record_date ep       g  \\\n",
       "0  iV3Db6t1T8b7c5HQY2TwxIhjbzD3  28      healthy  2020-04-23  y    male   \n",
       "1  AxuYWBN0jFVLINCBqIW5aZmGCdu1  25      healthy  2020-04-20  y    male   \n",
       "2  C5eIsssb9GSkaAgIfsHMHeR6fSh1  28      healthy  2020-04-24  y  female   \n",
       "3  YjbEAECMBIaZKyfqOvWy5DDImUb2  26      healthy  2020-04-23  y    male   \n",
       "4  aGOvk4ji0cVqIzCs1jHnzlw2UEy2  32      healthy  2020-04-22  y    male   \n",
       "\n",
       "             l_c              l_l             l_s rU  ... vacc   bd  \\\n",
       "0          India        Anantapur  Andhra Pradesh  n  ...  NaN  NaN   \n",
       "1          India  BENGALURU URBAN       Karnataka  n  ...  NaN  NaN   \n",
       "2  United States       Pittsburgh    Pennsylvania  n  ...  NaN  NaN   \n",
       "3          India        Bangalore       Karnataka  n  ...  NaN  NaN   \n",
       "4          India          Nalanda           Bihar  n  ...  NaN  NaN   \n",
       "\n",
       "  others_resp  ftg   st  ihd asthma  others_preexist  cld pneumonia  \n",
       "0         NaN  NaN  NaN  NaN    NaN              NaN  NaN       NaN  \n",
       "1         NaN  NaN  NaN  NaN    NaN              NaN  NaN       NaN  \n",
       "2         NaN  NaN  NaN  NaN    NaN              NaN  NaN       NaN  \n",
       "3         NaN  NaN  NaN  NaN    NaN              NaN  NaN       NaN  \n",
       "4         NaN  NaN  NaN  NaN    NaN              NaN  NaN       NaN  \n",
       "\n",
       "[5 rows x 36 columns]"
      ]
     },
     "execution_count": 1,
     "metadata": {},
     "output_type": "execute_result"
    }
   ],
   "source": [
    "import pandas as pd\n",
    "\n",
    "combined_data = pd.read_csv('Coswara-Data/combined_data.csv')\n",
    "combined_data.head()"
   ]
  },
  {
   "attachments": {},
   "cell_type": "markdown",
   "metadata": {},
   "source": [
    "Keep only the columns that are needed for the analysis."
   ]
  },
  {
   "cell_type": "code",
   "execution_count": 2,
   "metadata": {},
   "outputs": [
    {
     "data": {
      "text/html": [
       "<div>\n",
       "<style scoped>\n",
       "    .dataframe tbody tr th:only-of-type {\n",
       "        vertical-align: middle;\n",
       "    }\n",
       "\n",
       "    .dataframe tbody tr th {\n",
       "        vertical-align: top;\n",
       "    }\n",
       "\n",
       "    .dataframe thead th {\n",
       "        text-align: right;\n",
       "    }\n",
       "</style>\n",
       "<table border=\"1\" class=\"dataframe\">\n",
       "  <thead>\n",
       "    <tr style=\"text-align: right;\">\n",
       "      <th></th>\n",
       "      <th>id</th>\n",
       "      <th>covid_status</th>\n",
       "      <th>test_status</th>\n",
       "    </tr>\n",
       "  </thead>\n",
       "  <tbody>\n",
       "    <tr>\n",
       "      <th>0</th>\n",
       "      <td>iV3Db6t1T8b7c5HQY2TwxIhjbzD3</td>\n",
       "      <td>healthy</td>\n",
       "      <td>NaN</td>\n",
       "    </tr>\n",
       "    <tr>\n",
       "      <th>1</th>\n",
       "      <td>AxuYWBN0jFVLINCBqIW5aZmGCdu1</td>\n",
       "      <td>healthy</td>\n",
       "      <td>NaN</td>\n",
       "    </tr>\n",
       "    <tr>\n",
       "      <th>2</th>\n",
       "      <td>C5eIsssb9GSkaAgIfsHMHeR6fSh1</td>\n",
       "      <td>healthy</td>\n",
       "      <td>NaN</td>\n",
       "    </tr>\n",
       "    <tr>\n",
       "      <th>3</th>\n",
       "      <td>YjbEAECMBIaZKyfqOvWy5DDImUb2</td>\n",
       "      <td>healthy</td>\n",
       "      <td>NaN</td>\n",
       "    </tr>\n",
       "    <tr>\n",
       "      <th>4</th>\n",
       "      <td>aGOvk4ji0cVqIzCs1jHnzlw2UEy2</td>\n",
       "      <td>healthy</td>\n",
       "      <td>NaN</td>\n",
       "    </tr>\n",
       "    <tr>\n",
       "      <th>...</th>\n",
       "      <td>...</td>\n",
       "      <td>...</td>\n",
       "      <td>...</td>\n",
       "    </tr>\n",
       "    <tr>\n",
       "      <th>2472</th>\n",
       "      <td>333NjqA1TfZJuICEdXSkPhVz0LA3</td>\n",
       "      <td>positive_asymp</td>\n",
       "      <td>p</td>\n",
       "    </tr>\n",
       "    <tr>\n",
       "      <th>2473</th>\n",
       "      <td>dpA0EeRrtJUeKJjEuf7BL0AeTJZ2</td>\n",
       "      <td>positive_mild</td>\n",
       "      <td>p</td>\n",
       "    </tr>\n",
       "    <tr>\n",
       "      <th>2474</th>\n",
       "      <td>UXhG3vgoxkWtd4Meky1nm0sRgMV2</td>\n",
       "      <td>positive_mild</td>\n",
       "      <td>p</td>\n",
       "    </tr>\n",
       "    <tr>\n",
       "      <th>2475</th>\n",
       "      <td>A5KW9PXraNgckln1gnNaJnX6DvB2</td>\n",
       "      <td>positive_moderate</td>\n",
       "      <td>p</td>\n",
       "    </tr>\n",
       "    <tr>\n",
       "      <th>2476</th>\n",
       "      <td>iYwmYc9CdlSuzqGwIlXNWI6eFpm1</td>\n",
       "      <td>positive_mild</td>\n",
       "      <td>p</td>\n",
       "    </tr>\n",
       "  </tbody>\n",
       "</table>\n",
       "<p>2477 rows × 3 columns</p>\n",
       "</div>"
      ],
      "text/plain": [
       "                                id       covid_status test_status\n",
       "0     iV3Db6t1T8b7c5HQY2TwxIhjbzD3            healthy         NaN\n",
       "1     AxuYWBN0jFVLINCBqIW5aZmGCdu1            healthy         NaN\n",
       "2     C5eIsssb9GSkaAgIfsHMHeR6fSh1            healthy         NaN\n",
       "3     YjbEAECMBIaZKyfqOvWy5DDImUb2            healthy         NaN\n",
       "4     aGOvk4ji0cVqIzCs1jHnzlw2UEy2            healthy         NaN\n",
       "...                            ...                ...         ...\n",
       "2472  333NjqA1TfZJuICEdXSkPhVz0LA3     positive_asymp           p\n",
       "2473  dpA0EeRrtJUeKJjEuf7BL0AeTJZ2      positive_mild           p\n",
       "2474  UXhG3vgoxkWtd4Meky1nm0sRgMV2      positive_mild           p\n",
       "2475  A5KW9PXraNgckln1gnNaJnX6DvB2  positive_moderate           p\n",
       "2476  iYwmYc9CdlSuzqGwIlXNWI6eFpm1      positive_mild           p\n",
       "\n",
       "[2477 rows x 3 columns]"
      ]
     },
     "execution_count": 2,
     "metadata": {},
     "output_type": "execute_result"
    }
   ],
   "source": [
    "combined_data = combined_data[['id', 'covid_status', 'test_status']]\n",
    "combined_data"
   ]
  },
  {
   "cell_type": "code",
   "execution_count": 3,
   "metadata": {},
   "outputs": [
    {
     "data": {
      "text/plain": [
       "healthy                        1410\n",
       "positive_mild                   426\n",
       "positive_moderate               164\n",
       "no_resp_illness_exposed         161\n",
       "recovered_full                  145\n",
       "positive_asymp                   89\n",
       "resp_illness_not_identified      82\n",
       "Name: covid_status, dtype: int64"
      ]
     },
     "execution_count": 3,
     "metadata": {},
     "output_type": "execute_result"
    }
   ],
   "source": [
    "combined_data['covid_status'].value_counts()"
   ]
  },
  {
   "cell_type": "code",
   "execution_count": 4,
   "metadata": {},
   "outputs": [
    {
     "data": {
      "text/plain": [
       "p     679\n",
       "na    312\n",
       "n     257\n",
       "Name: test_status, dtype: int64"
      ]
     },
     "execution_count": 4,
     "metadata": {},
     "output_type": "execute_result"
    }
   ],
   "source": [
    "combined_data['test_status'].value_counts()"
   ]
  },
  {
   "attachments": {},
   "cell_type": "markdown",
   "metadata": {},
   "source": [
    "First let's rename 'healthy' to 'negative'."
   ]
  },
  {
   "cell_type": "code",
   "execution_count": 5,
   "metadata": {},
   "outputs": [],
   "source": [
    "combined_data.loc[combined_data['covid_status'] == 'healthy', 'covid_status'] = 'negative'"
   ]
  },
  {
   "attachments": {},
   "cell_type": "markdown",
   "metadata": {},
   "source": [
    "The 'ut' label for the `test_status` column seems to be used to indicate that the test was not validated yet, matching with the 'under_validation' label in the `covid_status` column."
   ]
  },
  {
   "cell_type": "code",
   "execution_count": 6,
   "metadata": {},
   "outputs": [
    {
     "data": {
      "text/plain": [
       "Series([], Name: covid_status, dtype: int64)"
      ]
     },
     "execution_count": 6,
     "metadata": {},
     "output_type": "execute_result"
    }
   ],
   "source": [
    "combined_data[combined_data['test_status'] == 'ut']['covid_status'].value_counts()"
   ]
  },
  {
   "attachments": {},
   "cell_type": "markdown",
   "metadata": {},
   "source": [
    "Let's remove the rows with this label."
   ]
  },
  {
   "cell_type": "code",
   "execution_count": 7,
   "metadata": {},
   "outputs": [
    {
     "data": {
      "text/plain": [
       "p     679\n",
       "na    312\n",
       "n     257\n",
       "Name: test_status, dtype: int64"
      ]
     },
     "execution_count": 7,
     "metadata": {},
     "output_type": "execute_result"
    }
   ],
   "source": [
    "combined_data = combined_data[combined_data['test_status'] != 'ut']\n",
    "combined_data['test_status'].value_counts()"
   ]
  },
  {
   "cell_type": "code",
   "execution_count": 8,
   "metadata": {},
   "outputs": [
    {
     "data": {
      "text/plain": [
       "negative                       197\n",
       "no_resp_illness_exposed         83\n",
       "resp_illness_not_identified     32\n",
       "Name: covid_status, dtype: int64"
      ]
     },
     "execution_count": 8,
     "metadata": {},
     "output_type": "execute_result"
    }
   ],
   "source": [
    "combined_data[combined_data['test_status'] == 'na']['covid_status'].value_counts()"
   ]
  },
  {
   "attachments": {},
   "cell_type": "markdown",
   "metadata": {},
   "source": [
    "We can observe that the 'na' label for the `test_status` column, used to indicate that the test was not performed, matches in most cases with the 'negative' label in the `covid_status` column.  \n",
    "Let's used this label as a 'n' label for the `test_status` column."
   ]
  },
  {
   "cell_type": "code",
   "execution_count": 9,
   "metadata": {},
   "outputs": [
    {
     "data": {
      "text/plain": [
       "p    679\n",
       "n    569\n",
       "Name: test_status, dtype: int64"
      ]
     },
     "execution_count": 9,
     "metadata": {},
     "output_type": "execute_result"
    }
   ],
   "source": [
    "combined_data.loc[combined_data['test_status'] == 'na', 'test_status'] = 'n'\n",
    "combined_data['test_status'].value_counts()"
   ]
  },
  {
   "attachments": {},
   "cell_type": "markdown",
   "metadata": {},
   "source": [
    "Now let's update the labels for the `covid_status` column to only have two labels: 'positive' and 'negative'."
   ]
  },
  {
   "cell_type": "code",
   "execution_count": 10,
   "metadata": {},
   "outputs": [
    {
     "data": {
      "text/plain": [
       "negative                       1410\n",
       "positive_mild                   426\n",
       "positive_moderate               164\n",
       "no_resp_illness_exposed         161\n",
       "recovered_full                  145\n",
       "positive_asymp                   89\n",
       "resp_illness_not_identified      82\n",
       "Name: covid_status, dtype: int64"
      ]
     },
     "execution_count": 10,
     "metadata": {},
     "output_type": "execute_result"
    }
   ],
   "source": [
    "combined_data['covid_status'].value_counts()"
   ]
  },
  {
   "cell_type": "code",
   "execution_count": 11,
   "metadata": {},
   "outputs": [
    {
     "data": {
      "text/plain": [
       "negative             1683\n",
       "positive              679\n",
       "positive_mild          72\n",
       "recovered_full         20\n",
       "positive_asymp         14\n",
       "positive_moderate       9\n",
       "Name: covid_status, dtype: int64"
      ]
     },
     "execution_count": 11,
     "metadata": {},
     "output_type": "execute_result"
    }
   ],
   "source": [
    "combined_data.loc[combined_data['test_status'] == 'n', 'covid_status'] = 'negative'\n",
    "combined_data.loc[combined_data['test_status'] == 'p', 'covid_status'] = 'positive'\n",
    "combined_data['covid_status'].value_counts()"
   ]
  },
  {
   "attachments": {},
   "cell_type": "markdown",
   "metadata": {},
   "source": [
    "We can observe that some labels in the `covid_status` column are still present. Let's check what can be done with them."
   ]
  },
  {
   "cell_type": "code",
   "execution_count": 12,
   "metadata": {},
   "outputs": [
    {
     "data": {
      "text/plain": [
       "0"
      ]
     },
     "execution_count": 12,
     "metadata": {},
     "output_type": "execute_result"
    }
   ],
   "source": [
    "combined_data[(combined_data['covid_status'] != 'negative') & (combined_data['covid_status'] != 'positive')]['test_status'].notna().sum()"
   ]
  },
  {
   "attachments": {},
   "cell_type": "markdown",
   "metadata": {},
   "source": [
    "`test_status` column is set to NaN for all the rows with a different label in the `covid_status` column than 'positive' or 'negative'.  \n",
    "Let's switch 'positive_mild', 'positive_asymp' and 'positive_moderate' labels to 'positive', and 'recovered_full' to 'negative'."
   ]
  },
  {
   "cell_type": "code",
   "execution_count": 13,
   "metadata": {},
   "outputs": [
    {
     "data": {
      "text/plain": [
       "negative    1703\n",
       "positive     774\n",
       "Name: covid_status, dtype: int64"
      ]
     },
     "execution_count": 13,
     "metadata": {},
     "output_type": "execute_result"
    }
   ],
   "source": [
    "combined_data.loc[combined_data['covid_status'] == 'positive_mild', 'covid_status'] = 'positive'\n",
    "combined_data.loc[combined_data['covid_status'] == 'positive_moderate', 'covid_status'] = 'positive'\n",
    "combined_data.loc[combined_data['covid_status'] == 'positive_asymp', 'covid_status'] = 'positive'\n",
    "combined_data.loc[combined_data['covid_status'] == 'recovered_full', 'covid_status'] = 'negative'\n",
    "combined_data['covid_status'].value_counts()"
   ]
  },
  {
   "attachments": {},
   "cell_type": "markdown",
   "metadata": {},
   "source": [
    "For 'no_resp_illness_exposed' and 'resp_illness_not_identified', we can not deduced if the person is negative or not.  \n",
    "Let's remove these rows."
   ]
  },
  {
   "cell_type": "code",
   "execution_count": 14,
   "metadata": {},
   "outputs": [
    {
     "data": {
      "text/plain": [
       "negative    1703\n",
       "positive     774\n",
       "Name: covid_status, dtype: int64"
      ]
     },
     "execution_count": 14,
     "metadata": {},
     "output_type": "execute_result"
    }
   ],
   "source": [
    "combined_data = combined_data[(combined_data['covid_status'] == 'negative') | (combined_data['covid_status'] == 'positive')]\n",
    "combined_data['covid_status'].value_counts()"
   ]
  },
  {
   "cell_type": "code",
   "execution_count": 15,
   "metadata": {},
   "outputs": [
    {
     "data": {
      "text/plain": [
       "0"
      ]
     },
     "execution_count": 15,
     "metadata": {},
     "output_type": "execute_result"
    }
   ],
   "source": [
    "combined_data['covid_status'].isna().sum()"
   ]
  },
  {
   "attachments": {},
   "cell_type": "markdown",
   "metadata": {},
   "source": [
    "We can observe that there is no NaN value in the `covid_status` column, we can now remove the `test_status` column."
   ]
  },
  {
   "cell_type": "code",
   "execution_count": 16,
   "metadata": {},
   "outputs": [
    {
     "data": {
      "text/html": [
       "<div>\n",
       "<style scoped>\n",
       "    .dataframe tbody tr th:only-of-type {\n",
       "        vertical-align: middle;\n",
       "    }\n",
       "\n",
       "    .dataframe tbody tr th {\n",
       "        vertical-align: top;\n",
       "    }\n",
       "\n",
       "    .dataframe thead th {\n",
       "        text-align: right;\n",
       "    }\n",
       "</style>\n",
       "<table border=\"1\" class=\"dataframe\">\n",
       "  <thead>\n",
       "    <tr style=\"text-align: right;\">\n",
       "      <th></th>\n",
       "      <th>id</th>\n",
       "      <th>covid_status</th>\n",
       "    </tr>\n",
       "  </thead>\n",
       "  <tbody>\n",
       "    <tr>\n",
       "      <th>0</th>\n",
       "      <td>iV3Db6t1T8b7c5HQY2TwxIhjbzD3</td>\n",
       "      <td>negative</td>\n",
       "    </tr>\n",
       "    <tr>\n",
       "      <th>1</th>\n",
       "      <td>AxuYWBN0jFVLINCBqIW5aZmGCdu1</td>\n",
       "      <td>negative</td>\n",
       "    </tr>\n",
       "    <tr>\n",
       "      <th>2</th>\n",
       "      <td>C5eIsssb9GSkaAgIfsHMHeR6fSh1</td>\n",
       "      <td>negative</td>\n",
       "    </tr>\n",
       "    <tr>\n",
       "      <th>3</th>\n",
       "      <td>YjbEAECMBIaZKyfqOvWy5DDImUb2</td>\n",
       "      <td>negative</td>\n",
       "    </tr>\n",
       "    <tr>\n",
       "      <th>4</th>\n",
       "      <td>aGOvk4ji0cVqIzCs1jHnzlw2UEy2</td>\n",
       "      <td>negative</td>\n",
       "    </tr>\n",
       "  </tbody>\n",
       "</table>\n",
       "</div>"
      ],
      "text/plain": [
       "                             id covid_status\n",
       "0  iV3Db6t1T8b7c5HQY2TwxIhjbzD3     negative\n",
       "1  AxuYWBN0jFVLINCBqIW5aZmGCdu1     negative\n",
       "2  C5eIsssb9GSkaAgIfsHMHeR6fSh1     negative\n",
       "3  YjbEAECMBIaZKyfqOvWy5DDImUb2     negative\n",
       "4  aGOvk4ji0cVqIzCs1jHnzlw2UEy2     negative"
      ]
     },
     "execution_count": 16,
     "metadata": {},
     "output_type": "execute_result"
    }
   ],
   "source": [
    "combined_data = combined_data[combined_data.columns[~combined_data.columns.isin(['test_status'])]]\n",
    "combined_data.head()"
   ]
  },
  {
   "cell_type": "code",
   "execution_count": 17,
   "metadata": {},
   "outputs": [
    {
     "data": {
      "text/plain": [
       "2477"
      ]
     },
     "execution_count": 17,
     "metadata": {},
     "output_type": "execute_result"
    }
   ],
   "source": [
    "len(combined_data)"
   ]
  },
  {
   "cell_type": "code",
   "execution_count": 18,
   "metadata": {},
   "outputs": [
    {
     "data": {
      "text/plain": [
       "(negative    1089\n",
       " positive     495\n",
       " Name: covid_status, dtype: int64,\n",
       " negative    273\n",
       " positive    124\n",
       " Name: covid_status, dtype: int64,\n",
       " negative    341\n",
       " positive    155\n",
       " Name: covid_status, dtype: int64)"
      ]
     },
     "execution_count": 18,
     "metadata": {},
     "output_type": "execute_result"
    }
   ],
   "source": [
    "from sklearn.model_selection import train_test_split\n",
    "\n",
    "train, test = train_test_split(combined_data, test_size=0.2, random_state=42, stratify=combined_data['covid_status'])\n",
    "train, val = train_test_split(train, test_size=0.2, random_state=42, stratify=train['covid_status'])\n",
    "\n",
    "train['covid_status'].value_counts(), val['covid_status'].value_counts(), test['covid_status'].value_counts()"
   ]
  },
  {
   "attachments": {},
   "cell_type": "markdown",
   "metadata": {},
   "source": [
    "# Transform audio files to mel-spectrograms"
   ]
  },
  {
   "cell_type": "code",
   "execution_count": 19,
   "metadata": {},
   "outputs": [],
   "source": [
    "import os\n",
    "\n",
    "audio_folder = 'Coswara-Data/'\n",
    "\n",
    "train_ids = train['id'].values\n",
    "val_ids = val['id'].values\n",
    "test_ids = test['id'].values\n",
    "\n",
    "train_audio_folder = []\n",
    "val_audio_folder = []\n",
    "test_audio_folder = []\n",
    "\n",
    "for folder1 in os.listdir(audio_folder):\n",
    "    if os.path.isdir(os.path.join(audio_folder, folder1)):\n",
    "        for folder2 in os.listdir(os.path.join(audio_folder, folder1)):\n",
    "            if folder2 in train_ids:\n",
    "                train_audio_folder.append(os.path.join(audio_folder, folder1, folder2))\n",
    "            elif folder2 in val_ids:\n",
    "                val_audio_folder.append(os.path.join(audio_folder, folder1, folder2))\n",
    "            elif folder2 in test_ids:\n",
    "                test_audio_folder.append(os.path.join(audio_folder, folder1, folder2))\n",
    "            \n",
    "assert len(train_audio_folder) == len(train_ids)\n",
    "assert len(val_audio_folder) == len(val_ids)\n",
    "assert len(test_audio_folder) == len(test_ids)"
   ]
  },
  {
   "cell_type": "code",
   "execution_count": 20,
   "metadata": {},
   "outputs": [
    {
     "name": "stderr",
     "output_type": "stream",
     "text": [
      "/home/leme/.local/lib/python3.10/site-packages/requests/__init__.py:102: RequestsDependencyWarning: urllib3 (1.26.9) or chardet (5.1.0)/charset_normalizer (2.0.12) doesn't match a supported version!\n",
      "  warnings.warn(\"urllib3 ({}) or chardet ({})/charset_normalizer ({}) doesn't match a supported \"\n"
     ]
    }
   ],
   "source": [
    "import librosa\n",
    "import skimage\n",
    "import numpy as np\n",
    "\n",
    "# Settings\n",
    "n_mels = 64 # Number of Mel banks to generate\n",
    "n_fft = 1024 # Interval we consider to apply FFT. Measured in # of samples\n",
    "hop_length = 441 # Sliding window for FFT. Measured in # of samples\n",
    "fmax = 22 # Maximum frequency we want to consider\n",
    "sampling_rate = 44100 # 44.1kHz sampling rate\n",
    "fmax = 22050"
   ]
  },
  {
   "cell_type": "code",
   "execution_count": 21,
   "metadata": {},
   "outputs": [
    {
     "name": "stderr",
     "output_type": "stream",
     "text": [
      "/home/leme/.local/lib/python3.10/site-packages/tqdm/auto.py:22: TqdmWarning: IProgress not found. Please update jupyter and ipywidgets. See https://ipywidgets.readthedocs.io/en/stable/user_install.html\n",
      "  from .autonotebook import tqdm as notebook_tqdm\n"
     ]
    }
   ],
   "source": [
    "import torch\n",
    "import torchaudio\n",
    "\n",
    "def compute_SAD(sig,fs,threshold=0.0001,sad_start_end_sil_length=100, sad_margin_length=50):\n",
    "    ''' Compute threshold based sound activity '''\n",
    "    # Leading/Trailing margin\n",
    "    sad_start_end_sil_length = int(sad_start_end_sil_length*1e-3*fs)\n",
    "    # Margin around active samples\n",
    "    sad_margin_length = int(sad_margin_length*1e-3*fs)\n",
    "\n",
    "    sample_activity = np.zeros(sig.shape)\n",
    "    sample_activity[np.power(sig,2)>threshold] = 1\n",
    "    sad = np.zeros(sig.shape)\n",
    "    for i in range(sample_activity.shape[0]):\n",
    "        if sample_activity[i] == 1: sad[i-sad_margin_length:i+sad_margin_length] = 1\n",
    "    sad[0:sad_start_end_sil_length] = 0\n",
    "    sad[-sad_start_end_sil_length:] = 0\n",
    "    return sad\n",
    "\n",
    "def read_audio(file_path):\n",
    "\ttry:\n",
    "\t\ts,fs = librosa.load(file_path)\n",
    "\t\tif np.mean(s)==0 or len(s)<1024:\n",
    "\t\t\traise ValueError()\n",
    "\t\t# waveform level amplitude normalization\n",
    "\t\ts = s/np.max(np.abs(s))\n",
    "\t\tsad = compute_SAD(s,fs)\n",
    "\t\ts = s[np.where(sad==1)]\n",
    "\texcept ValueError:\n",
    "\t\ts = None\n",
    "\t\tprint(\"Read audio failed for \"+file_path)\t\t\n",
    "\treturn s\n",
    "\n",
    "def compute_logMelSpec(s):\n",
    "\t''' Feature preparation\n",
    "\tSteps:\n",
    "\t1. Apply feature extraction to waveform\n",
    "\t2. Convert amplitude to dB if required\n",
    "\t3. Append delta and delta-delta features\n",
    "\t'''\n",
    "\tF_extractor = torchaudio.transforms.MelSpectrogram(sample_rate=sampling_rate,\n",
    "                                                                            n_fft=n_fft,\n",
    "                                                                            n_mels=n_mels,\n",
    "                                                                            f_max=fmax,\n",
    "                                                                            hop_length=hop_length)\n",
    "\tF = F_extractor(torch.tensor(s))\n",
    "\tF = torchaudio.functional.amplitude_to_DB(F,multiplier=10,amin=1e-10,db_multiplier=0)\n",
    "\tFo=F\n",
    "\tFD = torchaudio.functional.compute_deltas(F)\n",
    "\tFo = torch.cat((F,FD),dim=0)\n",
    "\tFD = torchaudio.functional.compute_deltas(F)\n",
    "\tFDD = torchaudio.functional.compute_deltas(FD)\n",
    "\tFo = torch.cat((F,FD,FDD),dim=0)\n",
    "\treturn (Fo.T.numpy())\n"
   ]
  },
  {
   "cell_type": "code",
   "execution_count": 22,
   "metadata": {},
   "outputs": [],
   "source": [
    "def get_features(audio_folder, audio_name):\n",
    "    audio = read_audio(os.path.join(audio_folder, audio_name))\n",
    "    features = compute_logMelSpec(audio)\n",
    "    return features"
   ]
  },
  {
   "cell_type": "code",
   "execution_count": 23,
   "metadata": {},
   "outputs": [],
   "source": [
    "def scale_minmax(X, min=0.0, max=1.0):\n",
    "    X_std = (X - X.min()) / (X.max() - X.min())\n",
    "    X_scaled = X_std * (max - min) + min\n",
    "    return X_scaled\n",
    "\n",
    "def extract_melspectrogram(audio_folder, audio_name):\n",
    "    audio, sr = librosa.load(os.path.join(audio_folder, audio_name))\n",
    "    melspectrogram = librosa.feature.melspectrogram(y=audio, sr=sr, n_mels=n_mels, n_fft=n_fft, hop_length=hop_length, fmax=fmax)\n",
    "    melspectrogram = np.log(melspectrogram + 1e-9) # add small number to avoid log(0)\n",
    "    return melspectrogram\n",
    "\n",
    "def extract_melspectrogram_image(audio_folder, audio_name):\n",
    "    melspectrogram = extract_melspectrogram(audio_folder, audio_name)\n",
    "    img = scale_minmax(melspectrogram, 0, 255).astype(np.uint8)\n",
    "    img = np.flip(img, axis=0)\n",
    "    img = 255 - img\n",
    "    skimage.io.imsave(os.path.join(audio_folder, audio_name + '.png'), img, check_contrast=False)\n",
    "    return melspectrogram"
   ]
  },
  {
   "cell_type": "code",
   "execution_count": 24,
   "metadata": {},
   "outputs": [
    {
     "name": "stdout",
     "output_type": "stream",
     "text": [
      "Extracting melspectrogram for train set...\n"
     ]
    },
    {
     "name": "stderr",
     "output_type": "stream",
     "text": [
      "  0%|          | 0/1584 [00:00<?, ?it/s]/home/leme/.local/lib/python3.10/site-packages/librosa/util/decorators.py:88: UserWarning: Empty filters detected in mel frequency basis. Some channels will produce empty responses. Try increasing your sampling rate (and fmax) or reducing n_mels.\n",
      "  return f(*args, **kwargs)\n",
      "100%|██████████| 1584/1584 [11:05<00:00,  2.38it/s]\n"
     ]
    },
    {
     "name": "stdout",
     "output_type": "stream",
     "text": [
      "Extracting melspectrogram for validation set...\n"
     ]
    },
    {
     "name": "stderr",
     "output_type": "stream",
     "text": [
      "100%|██████████| 397/397 [02:24<00:00,  2.75it/s]\n"
     ]
    },
    {
     "name": "stdout",
     "output_type": "stream",
     "text": [
      "Extracting melspectrogram for test set...\n"
     ]
    },
    {
     "name": "stderr",
     "output_type": "stream",
     "text": [
      "  9%|▊         | 43/496 [00:17<02:57,  2.56it/s]/home/leme/.local/lib/python3.10/site-packages/librosa/util/decorators.py:88: UserWarning: PySoundFile failed. Trying audioread instead.\n",
      "  return f(*args, **kwargs)\n",
      "100%|██████████| 496/496 [03:09<00:00,  2.61it/s]\n"
     ]
    }
   ],
   "source": [
    "from tqdm import tqdm\n",
    "\n",
    "audio_names = ['cough-heavy.wav', 'cough-shallow.wav']\n",
    "\n",
    "def get_data(df, audio_folder, audio_names):\n",
    "    data = []\n",
    "    for folder in tqdm(audio_folder):\n",
    "        for audio_name in audio_names:\n",
    "            try:\n",
    "                data.append((extract_melspectrogram(audio_folder, audio_name), df[df['id'] == audio_folder.split('/')[-1]]['covid_status'].values[0]))\n",
    "            except:\n",
    "                continue\n",
    "    data = np.array(data)\n",
    "    return data\n",
    "\n",
    "print('Extracting melspectrogram for train set...')\n",
    "train_data = get_data(train, train_audio_folder, audio_names)\n",
    "np.save('train_data.npy', train_data)\n",
    "print('Extracting melspectrogram for validation set...')\n",
    "val_data = get_data(val, val_audio_folder, audio_names)\n",
    "np.save('val_data.npy', val_data)\n",
    "print('Extracting melspectrogram for test set...')\n",
    "test_data = get_data(test, test_audio_folder, audio_names)"
   ]
  },
  {
   "attachments": {},
   "cell_type": "markdown",
   "metadata": {},
   "source": [
    "# Create CNN model for classification"
   ]
  },
  {
   "cell_type": "code",
   "execution_count": 26,
   "metadata": {},
   "outputs": [
    {
     "ename": "",
     "evalue": "",
     "output_type": "error",
     "traceback": [
      "\u001b[1;31mCanceled future for execute_request message before replies were done"
     ]
    },
    {
     "ename": "",
     "evalue": "",
     "output_type": "error",
     "traceback": [
      "\u001b[1;31mThe Kernel crashed while executing code in the the current cell or a previous cell. Please review the code in the cell(s) to identify a possible cause of the failure. Click <a href='https://aka.ms/vscodeJupyterKernelCrash'>here</a> for more info. View Jupyter <a href='command:jupyter.viewOutput'>log</a> for further details."
     ]
    }
   ],
   "source": [
    "import tensorflow as tf\n",
    "\n",
    "def create_model():\n",
    "    model = tf.keras.Sequential([\n",
    "        tf.keras.layers.Conv2D(16, 3, activation='relu', input_shape=(128, 128, 1)),\n",
    "        tf.keras.layers.MaxPooling2D(),\n",
    "        tf.keras.layers.Conv2D(32, 3, activation='relu'),\n",
    "        tf.keras.layers.MaxPooling2D(),\n",
    "        tf.keras.layers.Conv2D(64, 3, activation='relu'),\n",
    "        tf.keras.layers.MaxPooling2D(),\n",
    "        tf.keras.layers.Dropout(0.2),\n",
    "        tf.keras.layers.Flatten(),\n",
    "        tf.keras.layers.Dense(128, activation='relu'),\n",
    "        tf.keras.layers.Dense(2, activation='softmax')\n",
    "    ])\n",
    "    \n",
    "    model.compile(optimizer='adam',\n",
    "                  loss='sparse_categorical_crossentropy',\n",
    "                  metrics=['accuracy'])\n",
    "    \n",
    "    return model\n",
    "\n",
    "model = create_model()\n",
    "model.summary()"
   ]
  },
  {
   "attachments": {},
   "cell_type": "markdown",
   "metadata": {},
   "source": [
    "### Get the labels"
   ]
  },
  {
   "cell_type": "code",
   "execution_count": null,
   "metadata": {},
   "outputs": [],
   "source": [
    "train_labels = np.array([label for _, label in train_data])\n",
    "val_labels = np.array([label for _, label in val_data])\n",
    "test_labels = np.array([label for _, label in test_data])"
   ]
  },
  {
   "attachments": {},
   "cell_type": "markdown",
   "metadata": {},
   "source": [
    "### Get and resize the mel-spectrograms"
   ]
  },
  {
   "cell_type": "code",
   "execution_count": null,
   "metadata": {},
   "outputs": [],
   "source": [
    "def resize_melspectrogram(melspectrogram):\n",
    "    return skimage.transform.resize(melspectrogram, (128, 128))\n",
    "\n",
    "train_melspectrogram = np.array([resize_melspectrogram(melspectrogram) for melspectrogram, _ in train_data])\n",
    "val_melspectrogram = np.array([resize_melspectrogram(melspectrogram) for melspectrogram, _ in val_data])\n",
    "test_melspectrogram = np.array([resize_melspectrogram(melspectrogram) for melspectrogram, _ in test_data])"
   ]
  },
  {
   "attachments": {},
   "cell_type": "markdown",
   "metadata": {},
   "source": [
    "### Binarize the labels"
   ]
  },
  {
   "cell_type": "code",
   "execution_count": null,
   "metadata": {},
   "outputs": [
    {
     "name": "stderr",
     "output_type": "stream",
     "text": [
      "/tmp/ipykernel_10284/3543122232.py:1: DeprecationWarning: `np.int` is a deprecated alias for the builtin `int`. To silence this warning, use `int` by itself. Doing this will not modify any behavior and is safe. When replacing `np.int`, you may wish to use e.g. `np.int64` or `np.int32` to specify the precision. If you wish to review your current use, check the release note link for additional information.\n",
      "Deprecated in NumPy 1.20; for more details and guidance: https://numpy.org/devdocs/release/1.20.0-notes.html#deprecations\n",
      "  train_labels = (train_labels == 'positive').astype(np.int)\n",
      "/tmp/ipykernel_10284/3543122232.py:2: DeprecationWarning: `np.int` is a deprecated alias for the builtin `int`. To silence this warning, use `int` by itself. Doing this will not modify any behavior and is safe. When replacing `np.int`, you may wish to use e.g. `np.int64` or `np.int32` to specify the precision. If you wish to review your current use, check the release note link for additional information.\n",
      "Deprecated in NumPy 1.20; for more details and guidance: https://numpy.org/devdocs/release/1.20.0-notes.html#deprecations\n",
      "  val_labels = (val_labels == 'positive').astype(np.int)\n",
      "/tmp/ipykernel_10284/3543122232.py:3: DeprecationWarning: `np.int` is a deprecated alias for the builtin `int`. To silence this warning, use `int` by itself. Doing this will not modify any behavior and is safe. When replacing `np.int`, you may wish to use e.g. `np.int64` or `np.int32` to specify the precision. If you wish to review your current use, check the release note link for additional information.\n",
      "Deprecated in NumPy 1.20; for more details and guidance: https://numpy.org/devdocs/release/1.20.0-notes.html#deprecations\n",
      "  test_labels = (test_labels == 'positive').astype(np.int)\n"
     ]
    }
   ],
   "source": [
    "train_labels = (train_labels == 'positive').astype(np.int)\n",
    "val_labels = (val_labels == 'positive').astype(np.int)\n",
    "test_labels = (test_labels == 'positive').astype(np.int)"
   ]
  },
  {
   "attachments": {},
   "cell_type": "markdown",
   "metadata": {},
   "source": [
    "### Normalize the melspectrograms"
   ]
  },
  {
   "cell_type": "code",
   "execution_count": null,
   "metadata": {},
   "outputs": [],
   "source": [
    "train_melspectrogram = train_melspectrogram / train_melspectrogram.max()\n",
    "val_melspectrogram = val_melspectrogram / val_melspectrogram.max()\n",
    "test_melspectrogram = test_melspectrogram / test_melspectrogram.max()"
   ]
  },
  {
   "cell_type": "code",
   "execution_count": null,
   "metadata": {},
   "outputs": [
    {
     "name": "stdout",
     "output_type": "stream",
     "text": [
      "Epoch 1/10\n",
      "99/99 [==============================] - 16s 154ms/step - loss: 0.6611 - accuracy: 0.6734 - val_loss: 0.6015 - val_accuracy: 0.6877\n",
      "Epoch 2/10\n",
      "99/99 [==============================] - 12s 123ms/step - loss: 0.6040 - accuracy: 0.6899 - val_loss: 0.5968 - val_accuracy: 0.7053\n",
      "Epoch 3/10\n",
      "99/99 [==============================] - 12s 122ms/step - loss: 0.5921 - accuracy: 0.7004 - val_loss: 0.5717 - val_accuracy: 0.7317\n",
      "Epoch 4/10\n",
      "99/99 [==============================] - 11s 109ms/step - loss: 0.5727 - accuracy: 0.7213 - val_loss: 0.5741 - val_accuracy: 0.7217\n",
      "Epoch 5/10\n",
      "99/99 [==============================] - 11s 116ms/step - loss: 0.5441 - accuracy: 0.7422 - val_loss: 0.5665 - val_accuracy: 0.7204\n",
      "Epoch 6/10\n",
      "99/99 [==============================] - 12s 124ms/step - loss: 0.5251 - accuracy: 0.7530 - val_loss: 0.5719 - val_accuracy: 0.7242\n",
      "Epoch 7/10\n",
      "99/99 [==============================] - 12s 120ms/step - loss: 0.5008 - accuracy: 0.7644 - val_loss: 0.5755 - val_accuracy: 0.7166\n",
      "Epoch 8/10\n",
      "99/99 [==============================] - 12s 120ms/step - loss: 0.4833 - accuracy: 0.7752 - val_loss: 0.5767 - val_accuracy: 0.6977\n",
      "Epoch 9/10\n",
      "99/99 [==============================] - 12s 119ms/step - loss: 0.4657 - accuracy: 0.7904 - val_loss: 0.5691 - val_accuracy: 0.7267\n",
      "Epoch 10/10\n",
      "99/99 [==============================] - 13s 131ms/step - loss: 0.4204 - accuracy: 0.8098 - val_loss: 0.5867 - val_accuracy: 0.7116\n"
     ]
    }
   ],
   "source": [
    "# Train the model\n",
    "epochs = 10\n",
    "history = model.fit(train_melspectrogram, train_labels, batch_size=32, epochs=epochs, validation_data=(val_melspectrogram, val_labels))"
   ]
  },
  {
   "cell_type": "code",
   "execution_count": null,
   "metadata": {},
   "outputs": [
    {
     "data": {
      "text/plain": [
       "Text(0.5, 1.0, 'Training and Validation Loss')"
      ]
     },
     "execution_count": 31,
     "metadata": {},
     "output_type": "execute_result"
    },
    {
     "data": {
      "image/png": "[encoded data removed]",
      "text/plain": [
       "<Figure size 576x576 with 2 Axes>"
      ]
     },
     "metadata": {
      "needs_background": "light"
     },
     "output_type": "display_data"
    }
   ],
   "source": [
    "# Plot the training and validation accuracy/loss per epoch\n",
    "import matplotlib.pyplot as plt\n",
    "\n",
    "acc = history.history['accuracy']\n",
    "val_acc = history.history['val_accuracy']\n",
    "\n",
    "loss = history.history['loss']\n",
    "val_loss = history.history['val_loss']\n",
    "\n",
    "epochs_range = range(epochs)\n",
    "\n",
    "plt.figure(figsize=(8, 8))\n",
    "plt.subplot(1, 2, 1)\n",
    "plt.plot(epochs_range, acc, label='Training Accuracy')\n",
    "plt.plot(epochs_range, val_acc, label='Validation Accuracy')\n",
    "plt.legend(loc='lower right')\n",
    "plt.title('Training and Validation Accuracy')\n",
    "\n",
    "plt.subplot(1, 2, 2)\n",
    "plt.plot(epochs_range, loss, label='Training Loss')\n",
    "plt.plot(epochs_range, val_loss, label='Validation Loss')\n",
    "plt.legend(loc='upper right')\n",
    "plt.title('Training and Validation Loss')"
   ]
  },
  {
   "cell_type": "code",
   "execution_count": null,
   "metadata": {},
   "outputs": [
    {
     "name": "stdout",
     "output_type": "stream",
     "text": [
      "31/31 [==============================] - 1s 34ms/step - loss: 0.6100 - accuracy: 0.7055\n"
     ]
    },
    {
     "data": {
      "text/plain": [
       "[0.609970211982727, 0.7054656147956848]"
      ]
     },
     "execution_count": 32,
     "metadata": {},
     "output_type": "execute_result"
    }
   ],
   "source": [
    "# Evaluate the model\n",
    "model.evaluate(test_melspectrogram, test_labels)"
   ]
  },
  {
   "cell_type": "code",
   "execution_count": null,
   "metadata": {},
   "outputs": [
    {
     "data": {
      "text/plain": [
       "<AxesSubplot:>"
      ]
     },
     "execution_count": 33,
     "metadata": {},
     "output_type": "execute_result"
    },
    {
     "data": {
      "image/png": "[encoded data removed]",
      "text/plain": [
       "<Figure size 432x288 with 2 Axes>"
      ]
     },
     "metadata": {
      "needs_background": "light"
     },
     "output_type": "display_data"
    }
   ],
   "source": [
    "# Predict the labels\n",
    "predictions = model.predict(test_melspectrogram)\n",
    "\n",
    "# Confusion matrix for the test set\n",
    "from sklearn.metrics import confusion_matrix\n",
    "import seaborn as sns\n",
    "\n",
    "cm = confusion_matrix(test_labels, np.argmax(predictions, axis=1))\n",
    "sns.heatmap(cm, annot=True, fmt='d')"
   ]
  },
  {
   "cell_type": "code",
   "execution_count": null,
   "metadata": {},
   "outputs": [],
   "source": [
    "# Save the model\n",
    "model.save('covid_cough_classifier.h5')"
   ]
  }
 ],
 "metadata": {
  "kernelspec": {
   "display_name": "Python 3",
   "language": "python",
   "name": "python3"
  },
  "language_info": {
   "codemirror_mode": {
    "name": "ipython",
    "version": 3
   },
   "file_extension": ".py",
   "mimetype": "text/x-python",
   "name": "python",
   "nbconvert_exporter": "python",
   "pygments_lexer": "ipython3",
   "version": "3.10.8 (main, Oct 12 2022, 19:14:26) [GCC 9.4.0]"
  },
  "orig_nbformat": 4,
  "vscode": {
   "interpreter": {
    "hash": "97cc609b13305c559618ec78a438abc56230b9381f827f22d070313b9a1f3777"
   }
  }
 },
 "nbformat": 4,
 "nbformat_minor": 2
}
