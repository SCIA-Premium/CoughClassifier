{
 "cells": [
  {
   "attachments": {},
   "cell_type": "markdown",
   "metadata": {},
   "source": [
    "# Preprocess the data"
   ]
  },
  {
   "cell_type": "code",
   "execution_count": 2,
   "metadata": {},
   "outputs": [
    {
     "data": {
      "text/html": [
       "<div>\n",
       "<style scoped>\n",
       "    .dataframe tbody tr th:only-of-type {\n",
       "        vertical-align: middle;\n",
       "    }\n",
       "\n",
       "    .dataframe tbody tr th {\n",
       "        vertical-align: top;\n",
       "    }\n",
       "\n",
       "    .dataframe thead th {\n",
       "        text-align: right;\n",
       "    }\n",
       "</style>\n",
       "<table border=\"1\" class=\"dataframe\">\n",
       "  <thead>\n",
       "    <tr style=\"text-align: right;\">\n",
       "      <th></th>\n",
       "      <th>id</th>\n",
       "      <th>a</th>\n",
       "      <th>covid_status</th>\n",
       "      <th>record_date</th>\n",
       "      <th>ep</th>\n",
       "      <th>g</th>\n",
       "      <th>l_c</th>\n",
       "      <th>l_l</th>\n",
       "      <th>l_s</th>\n",
       "      <th>rU</th>\n",
       "      <th>...</th>\n",
       "      <th>vacc</th>\n",
       "      <th>bd</th>\n",
       "      <th>others_resp</th>\n",
       "      <th>ftg</th>\n",
       "      <th>st</th>\n",
       "      <th>ihd</th>\n",
       "      <th>asthma</th>\n",
       "      <th>others_preexist</th>\n",
       "      <th>cld</th>\n",
       "      <th>pneumonia</th>\n",
       "    </tr>\n",
       "  </thead>\n",
       "  <tbody>\n",
       "    <tr>\n",
       "      <th>0</th>\n",
       "      <td>iV3Db6t1T8b7c5HQY2TwxIhjbzD3</td>\n",
       "      <td>28</td>\n",
       "      <td>healthy</td>\n",
       "      <td>2020-04-23</td>\n",
       "      <td>y</td>\n",
       "      <td>male</td>\n",
       "      <td>India</td>\n",
       "      <td>Anantapur</td>\n",
       "      <td>Andhra Pradesh</td>\n",
       "      <td>n</td>\n",
       "      <td>...</td>\n",
       "      <td>NaN</td>\n",
       "      <td>NaN</td>\n",
       "      <td>NaN</td>\n",
       "      <td>NaN</td>\n",
       "      <td>NaN</td>\n",
       "      <td>NaN</td>\n",
       "      <td>NaN</td>\n",
       "      <td>NaN</td>\n",
       "      <td>NaN</td>\n",
       "      <td>NaN</td>\n",
       "    </tr>\n",
       "    <tr>\n",
       "      <th>1</th>\n",
       "      <td>AxuYWBN0jFVLINCBqIW5aZmGCdu1</td>\n",
       "      <td>25</td>\n",
       "      <td>healthy</td>\n",
       "      <td>2020-04-20</td>\n",
       "      <td>y</td>\n",
       "      <td>male</td>\n",
       "      <td>India</td>\n",
       "      <td>BENGALURU URBAN</td>\n",
       "      <td>Karnataka</td>\n",
       "      <td>n</td>\n",
       "      <td>...</td>\n",
       "      <td>NaN</td>\n",
       "      <td>NaN</td>\n",
       "      <td>NaN</td>\n",
       "      <td>NaN</td>\n",
       "      <td>NaN</td>\n",
       "      <td>NaN</td>\n",
       "      <td>NaN</td>\n",
       "      <td>NaN</td>\n",
       "      <td>NaN</td>\n",
       "      <td>NaN</td>\n",
       "    </tr>\n",
       "    <tr>\n",
       "      <th>2</th>\n",
       "      <td>C5eIsssb9GSkaAgIfsHMHeR6fSh1</td>\n",
       "      <td>28</td>\n",
       "      <td>healthy</td>\n",
       "      <td>2020-04-24</td>\n",
       "      <td>y</td>\n",
       "      <td>female</td>\n",
       "      <td>United States</td>\n",
       "      <td>Pittsburgh</td>\n",
       "      <td>Pennsylvania</td>\n",
       "      <td>n</td>\n",
       "      <td>...</td>\n",
       "      <td>NaN</td>\n",
       "      <td>NaN</td>\n",
       "      <td>NaN</td>\n",
       "      <td>NaN</td>\n",
       "      <td>NaN</td>\n",
       "      <td>NaN</td>\n",
       "      <td>NaN</td>\n",
       "      <td>NaN</td>\n",
       "      <td>NaN</td>\n",
       "      <td>NaN</td>\n",
       "    </tr>\n",
       "    <tr>\n",
       "      <th>3</th>\n",
       "      <td>YjbEAECMBIaZKyfqOvWy5DDImUb2</td>\n",
       "      <td>26</td>\n",
       "      <td>healthy</td>\n",
       "      <td>2020-04-23</td>\n",
       "      <td>y</td>\n",
       "      <td>male</td>\n",
       "      <td>India</td>\n",
       "      <td>Bangalore</td>\n",
       "      <td>Karnataka</td>\n",
       "      <td>n</td>\n",
       "      <td>...</td>\n",
       "      <td>NaN</td>\n",
       "      <td>NaN</td>\n",
       "      <td>NaN</td>\n",
       "      <td>NaN</td>\n",
       "      <td>NaN</td>\n",
       "      <td>NaN</td>\n",
       "      <td>NaN</td>\n",
       "      <td>NaN</td>\n",
       "      <td>NaN</td>\n",
       "      <td>NaN</td>\n",
       "    </tr>\n",
       "    <tr>\n",
       "      <th>4</th>\n",
       "      <td>aGOvk4ji0cVqIzCs1jHnzlw2UEy2</td>\n",
       "      <td>32</td>\n",
       "      <td>healthy</td>\n",
       "      <td>2020-04-22</td>\n",
       "      <td>y</td>\n",
       "      <td>male</td>\n",
       "      <td>India</td>\n",
       "      <td>Nalanda</td>\n",
       "      <td>Bihar</td>\n",
       "      <td>n</td>\n",
       "      <td>...</td>\n",
       "      <td>NaN</td>\n",
       "      <td>NaN</td>\n",
       "      <td>NaN</td>\n",
       "      <td>NaN</td>\n",
       "      <td>NaN</td>\n",
       "      <td>NaN</td>\n",
       "      <td>NaN</td>\n",
       "      <td>NaN</td>\n",
       "      <td>NaN</td>\n",
       "      <td>NaN</td>\n",
       "    </tr>\n",
       "  </tbody>\n",
       "</table>\n",
       "<p>5 rows × 36 columns</p>\n",
       "</div>"
      ],
      "text/plain": [
       "                             id   a covid_status record_date ep       g  \\\n",
       "0  iV3Db6t1T8b7c5HQY2TwxIhjbzD3  28      healthy  2020-04-23  y    male   \n",
       "1  AxuYWBN0jFVLINCBqIW5aZmGCdu1  25      healthy  2020-04-20  y    male   \n",
       "2  C5eIsssb9GSkaAgIfsHMHeR6fSh1  28      healthy  2020-04-24  y  female   \n",
       "3  YjbEAECMBIaZKyfqOvWy5DDImUb2  26      healthy  2020-04-23  y    male   \n",
       "4  aGOvk4ji0cVqIzCs1jHnzlw2UEy2  32      healthy  2020-04-22  y    male   \n",
       "\n",
       "             l_c              l_l             l_s rU  ... vacc   bd  \\\n",
       "0          India        Anantapur  Andhra Pradesh  n  ...  NaN  NaN   \n",
       "1          India  BENGALURU URBAN       Karnataka  n  ...  NaN  NaN   \n",
       "2  United States       Pittsburgh    Pennsylvania  n  ...  NaN  NaN   \n",
       "3          India        Bangalore       Karnataka  n  ...  NaN  NaN   \n",
       "4          India          Nalanda           Bihar  n  ...  NaN  NaN   \n",
       "\n",
       "  others_resp  ftg   st  ihd asthma  others_preexist  cld pneumonia  \n",
       "0         NaN  NaN  NaN  NaN    NaN              NaN  NaN       NaN  \n",
       "1         NaN  NaN  NaN  NaN    NaN              NaN  NaN       NaN  \n",
       "2         NaN  NaN  NaN  NaN    NaN              NaN  NaN       NaN  \n",
       "3         NaN  NaN  NaN  NaN    NaN              NaN  NaN       NaN  \n",
       "4         NaN  NaN  NaN  NaN    NaN              NaN  NaN       NaN  \n",
       "\n",
       "[5 rows x 36 columns]"
      ]
     },
     "execution_count": 2,
     "metadata": {},
     "output_type": "execute_result"
    }
   ],
   "source": [
    "import pandas as pd\n",
    "\n",
    "combined_data = pd.read_csv('Coswara-Data/combined_data.csv')\n",
    "combined_data.head()"
   ]
  },
  {
   "attachments": {},
   "cell_type": "markdown",
   "metadata": {},
   "source": [
    "Keep only the columns that are needed for the analysis."
   ]
  },
  {
   "cell_type": "code",
   "execution_count": 3,
   "metadata": {},
   "outputs": [
    {
     "data": {
      "text/html": [
       "<div>\n",
       "<style scoped>\n",
       "    .dataframe tbody tr th:only-of-type {\n",
       "        vertical-align: middle;\n",
       "    }\n",
       "\n",
       "    .dataframe tbody tr th {\n",
       "        vertical-align: top;\n",
       "    }\n",
       "\n",
       "    .dataframe thead th {\n",
       "        text-align: right;\n",
       "    }\n",
       "</style>\n",
       "<table border=\"1\" class=\"dataframe\">\n",
       "  <thead>\n",
       "    <tr style=\"text-align: right;\">\n",
       "      <th></th>\n",
       "      <th>id</th>\n",
       "      <th>a</th>\n",
       "      <th>g</th>\n",
       "      <th>covid_status</th>\n",
       "      <th>asthma</th>\n",
       "      <th>cough</th>\n",
       "      <th>smoker</th>\n",
       "      <th>test_status</th>\n",
       "    </tr>\n",
       "  </thead>\n",
       "  <tbody>\n",
       "    <tr>\n",
       "      <th>0</th>\n",
       "      <td>iV3Db6t1T8b7c5HQY2TwxIhjbzD3</td>\n",
       "      <td>28</td>\n",
       "      <td>male</td>\n",
       "      <td>healthy</td>\n",
       "      <td>NaN</td>\n",
       "      <td>NaN</td>\n",
       "      <td>NaN</td>\n",
       "      <td>NaN</td>\n",
       "    </tr>\n",
       "    <tr>\n",
       "      <th>1</th>\n",
       "      <td>AxuYWBN0jFVLINCBqIW5aZmGCdu1</td>\n",
       "      <td>25</td>\n",
       "      <td>male</td>\n",
       "      <td>healthy</td>\n",
       "      <td>NaN</td>\n",
       "      <td>NaN</td>\n",
       "      <td>True</td>\n",
       "      <td>NaN</td>\n",
       "    </tr>\n",
       "    <tr>\n",
       "      <th>2</th>\n",
       "      <td>C5eIsssb9GSkaAgIfsHMHeR6fSh1</td>\n",
       "      <td>28</td>\n",
       "      <td>female</td>\n",
       "      <td>healthy</td>\n",
       "      <td>NaN</td>\n",
       "      <td>NaN</td>\n",
       "      <td>NaN</td>\n",
       "      <td>NaN</td>\n",
       "    </tr>\n",
       "    <tr>\n",
       "      <th>3</th>\n",
       "      <td>YjbEAECMBIaZKyfqOvWy5DDImUb2</td>\n",
       "      <td>26</td>\n",
       "      <td>male</td>\n",
       "      <td>healthy</td>\n",
       "      <td>NaN</td>\n",
       "      <td>NaN</td>\n",
       "      <td>NaN</td>\n",
       "      <td>NaN</td>\n",
       "    </tr>\n",
       "    <tr>\n",
       "      <th>4</th>\n",
       "      <td>aGOvk4ji0cVqIzCs1jHnzlw2UEy2</td>\n",
       "      <td>32</td>\n",
       "      <td>male</td>\n",
       "      <td>healthy</td>\n",
       "      <td>NaN</td>\n",
       "      <td>NaN</td>\n",
       "      <td>NaN</td>\n",
       "      <td>NaN</td>\n",
       "    </tr>\n",
       "    <tr>\n",
       "      <th>...</th>\n",
       "      <td>...</td>\n",
       "      <td>...</td>\n",
       "      <td>...</td>\n",
       "      <td>...</td>\n",
       "      <td>...</td>\n",
       "      <td>...</td>\n",
       "      <td>...</td>\n",
       "      <td>...</td>\n",
       "    </tr>\n",
       "    <tr>\n",
       "      <th>2741</th>\n",
       "      <td>333NjqA1TfZJuICEdXSkPhVz0LA3</td>\n",
       "      <td>48</td>\n",
       "      <td>male</td>\n",
       "      <td>positive_asymp</td>\n",
       "      <td>NaN</td>\n",
       "      <td>NaN</td>\n",
       "      <td>n</td>\n",
       "      <td>p</td>\n",
       "    </tr>\n",
       "    <tr>\n",
       "      <th>2742</th>\n",
       "      <td>dpA0EeRrtJUeKJjEuf7BL0AeTJZ2</td>\n",
       "      <td>36</td>\n",
       "      <td>male</td>\n",
       "      <td>positive_mild</td>\n",
       "      <td>NaN</td>\n",
       "      <td>True</td>\n",
       "      <td>y</td>\n",
       "      <td>p</td>\n",
       "    </tr>\n",
       "    <tr>\n",
       "      <th>2743</th>\n",
       "      <td>UXhG3vgoxkWtd4Meky1nm0sRgMV2</td>\n",
       "      <td>76</td>\n",
       "      <td>male</td>\n",
       "      <td>positive_mild</td>\n",
       "      <td>NaN</td>\n",
       "      <td>NaN</td>\n",
       "      <td>n</td>\n",
       "      <td>p</td>\n",
       "    </tr>\n",
       "    <tr>\n",
       "      <th>2744</th>\n",
       "      <td>A5KW9PXraNgckln1gnNaJnX6DvB2</td>\n",
       "      <td>25</td>\n",
       "      <td>male</td>\n",
       "      <td>positive_moderate</td>\n",
       "      <td>NaN</td>\n",
       "      <td>True</td>\n",
       "      <td>n</td>\n",
       "      <td>p</td>\n",
       "    </tr>\n",
       "    <tr>\n",
       "      <th>2745</th>\n",
       "      <td>iYwmYc9CdlSuzqGwIlXNWI6eFpm1</td>\n",
       "      <td>78</td>\n",
       "      <td>female</td>\n",
       "      <td>positive_mild</td>\n",
       "      <td>NaN</td>\n",
       "      <td>True</td>\n",
       "      <td>n</td>\n",
       "      <td>p</td>\n",
       "    </tr>\n",
       "  </tbody>\n",
       "</table>\n",
       "<p>2746 rows × 8 columns</p>\n",
       "</div>"
      ],
      "text/plain": [
       "                                id   a       g       covid_status asthma  \\\n",
       "0     iV3Db6t1T8b7c5HQY2TwxIhjbzD3  28    male            healthy    NaN   \n",
       "1     AxuYWBN0jFVLINCBqIW5aZmGCdu1  25    male            healthy    NaN   \n",
       "2     C5eIsssb9GSkaAgIfsHMHeR6fSh1  28  female            healthy    NaN   \n",
       "3     YjbEAECMBIaZKyfqOvWy5DDImUb2  26    male            healthy    NaN   \n",
       "4     aGOvk4ji0cVqIzCs1jHnzlw2UEy2  32    male            healthy    NaN   \n",
       "...                            ...  ..     ...                ...    ...   \n",
       "2741  333NjqA1TfZJuICEdXSkPhVz0LA3  48    male     positive_asymp    NaN   \n",
       "2742  dpA0EeRrtJUeKJjEuf7BL0AeTJZ2  36    male      positive_mild    NaN   \n",
       "2743  UXhG3vgoxkWtd4Meky1nm0sRgMV2  76    male      positive_mild    NaN   \n",
       "2744  A5KW9PXraNgckln1gnNaJnX6DvB2  25    male  positive_moderate    NaN   \n",
       "2745  iYwmYc9CdlSuzqGwIlXNWI6eFpm1  78  female      positive_mild    NaN   \n",
       "\n",
       "     cough smoker test_status  \n",
       "0      NaN    NaN         NaN  \n",
       "1      NaN   True         NaN  \n",
       "2      NaN    NaN         NaN  \n",
       "3      NaN    NaN         NaN  \n",
       "4      NaN    NaN         NaN  \n",
       "...    ...    ...         ...  \n",
       "2741   NaN      n           p  \n",
       "2742  True      y           p  \n",
       "2743   NaN      n           p  \n",
       "2744  True      n           p  \n",
       "2745  True      n           p  \n",
       "\n",
       "[2746 rows x 8 columns]"
      ]
     },
     "execution_count": 3,
     "metadata": {},
     "output_type": "execute_result"
    }
   ],
   "source": [
    "combined_data = combined_data[['id', 'a', 'g', 'covid_status', 'asthma', 'cough', 'smoker', 'test_status']]\n",
    "combined_data"
   ]
  },
  {
   "cell_type": "code",
   "execution_count": 4,
   "metadata": {},
   "outputs": [
    {
     "data": {
      "text/plain": [
       "healthy                        1433\n",
       "positive_mild                   426\n",
       "no_resp_illness_exposed         248\n",
       "positive_moderate               165\n",
       "resp_illness_not_identified     157\n",
       "recovered_full                  146\n",
       "positive_asymp                   90\n",
       "under_validation                 81\n",
       "Name: covid_status, dtype: int64"
      ]
     },
     "execution_count": 4,
     "metadata": {},
     "output_type": "execute_result"
    }
   ],
   "source": [
    "combined_data['covid_status'].value_counts()"
   ]
  },
  {
   "cell_type": "code",
   "execution_count": 5,
   "metadata": {},
   "outputs": [
    {
     "data": {
      "text/plain": [
       "p     681\n",
       "na    314\n",
       "n     257\n",
       "ut     81\n",
       "Name: test_status, dtype: int64"
      ]
     },
     "execution_count": 5,
     "metadata": {},
     "output_type": "execute_result"
    }
   ],
   "source": [
    "combined_data['test_status'].value_counts()"
   ]
  },
  {
   "attachments": {},
   "cell_type": "markdown",
   "metadata": {},
   "source": [
    "The 'ut' label for the `test_status` column seems to be used to indicate that the test was not validated yet, matching with the 'under_validation' label in the `covid_status` column."
   ]
  },
  {
   "cell_type": "code",
   "execution_count": 6,
   "metadata": {},
   "outputs": [
    {
     "data": {
      "text/plain": [
       "under_validation    81\n",
       "Name: covid_status, dtype: int64"
      ]
     },
     "execution_count": 6,
     "metadata": {},
     "output_type": "execute_result"
    }
   ],
   "source": [
    "combined_data[combined_data['test_status'] == 'ut']['covid_status'].value_counts()"
   ]
  },
  {
   "attachments": {},
   "cell_type": "markdown",
   "metadata": {},
   "source": [
    "Let's remove the rows with this label."
   ]
  },
  {
   "cell_type": "code",
   "execution_count": 7,
   "metadata": {},
   "outputs": [
    {
     "data": {
      "text/plain": [
       "p     681\n",
       "na    314\n",
       "n     257\n",
       "Name: test_status, dtype: int64"
      ]
     },
     "execution_count": 7,
     "metadata": {},
     "output_type": "execute_result"
    }
   ],
   "source": [
    "combined_data = combined_data[combined_data['test_status'] != 'ut']\n",
    "combined_data['test_status'].value_counts()"
   ]
  },
  {
   "cell_type": "code",
   "execution_count": 68,
   "metadata": {},
   "outputs": [
    {
     "ename": "KeyError",
     "evalue": "'test_status'",
     "output_type": "error",
     "traceback": [
      "\u001b[0;31m---------------------------------------------------------------------------\u001b[0m",
      "\u001b[0;31mKeyError\u001b[0m                                  Traceback (most recent call last)",
      "File \u001b[0;32m~/.local/lib/python3.10/site-packages/pandas/core/indexes/base.py:3621\u001b[0m, in \u001b[0;36mIndex.get_loc\u001b[0;34m(self, key, method, tolerance)\u001b[0m\n\u001b[1;32m   3620\u001b[0m \u001b[39mtry\u001b[39;00m:\n\u001b[0;32m-> 3621\u001b[0m     \u001b[39mreturn\u001b[39;00m \u001b[39mself\u001b[39;49m\u001b[39m.\u001b[39;49m_engine\u001b[39m.\u001b[39;49mget_loc(casted_key)\n\u001b[1;32m   3622\u001b[0m \u001b[39mexcept\u001b[39;00m \u001b[39mKeyError\u001b[39;00m \u001b[39mas\u001b[39;00m err:\n",
      "File \u001b[0;32m~/.local/lib/python3.10/site-packages/pandas/_libs/index.pyx:136\u001b[0m, in \u001b[0;36mpandas._libs.index.IndexEngine.get_loc\u001b[0;34m()\u001b[0m\n",
      "File \u001b[0;32m~/.local/lib/python3.10/site-packages/pandas/_libs/index.pyx:163\u001b[0m, in \u001b[0;36mpandas._libs.index.IndexEngine.get_loc\u001b[0;34m()\u001b[0m\n",
      "File \u001b[0;32mpandas/_libs/hashtable_class_helper.pxi:5198\u001b[0m, in \u001b[0;36mpandas._libs.hashtable.PyObjectHashTable.get_item\u001b[0;34m()\u001b[0m\n",
      "File \u001b[0;32mpandas/_libs/hashtable_class_helper.pxi:5206\u001b[0m, in \u001b[0;36mpandas._libs.hashtable.PyObjectHashTable.get_item\u001b[0;34m()\u001b[0m\n",
      "\u001b[0;31mKeyError\u001b[0m: 'test_status'",
      "\nThe above exception was the direct cause of the following exception:\n",
      "\u001b[0;31mKeyError\u001b[0m                                  Traceback (most recent call last)",
      "\u001b[1;32m/mnt/h/MLBIO/project.ipynb Cell 11\u001b[0m in \u001b[0;36m<cell line: 1>\u001b[0;34m()\u001b[0m\n\u001b[0;32m----> <a href='vscode-notebook-cell://wsl%2Bubuntu/mnt/h/MLBIO/project.ipynb#X22sdnNjb2RlLXJlbW90ZQ%3D%3D?line=0'>1</a>\u001b[0m combined_data[combined_data[\u001b[39m'\u001b[39;49m\u001b[39mtest_status\u001b[39;49m\u001b[39m'\u001b[39;49m] \u001b[39m==\u001b[39m \u001b[39m'\u001b[39m\u001b[39mna\u001b[39m\u001b[39m'\u001b[39m][\u001b[39m'\u001b[39m\u001b[39mcovid_status\u001b[39m\u001b[39m'\u001b[39m]\u001b[39m.\u001b[39mvalue_counts()\n",
      "File \u001b[0;32m~/.local/lib/python3.10/site-packages/pandas/core/frame.py:3505\u001b[0m, in \u001b[0;36mDataFrame.__getitem__\u001b[0;34m(self, key)\u001b[0m\n\u001b[1;32m   3503\u001b[0m \u001b[39mif\u001b[39;00m \u001b[39mself\u001b[39m\u001b[39m.\u001b[39mcolumns\u001b[39m.\u001b[39mnlevels \u001b[39m>\u001b[39m \u001b[39m1\u001b[39m:\n\u001b[1;32m   3504\u001b[0m     \u001b[39mreturn\u001b[39;00m \u001b[39mself\u001b[39m\u001b[39m.\u001b[39m_getitem_multilevel(key)\n\u001b[0;32m-> 3505\u001b[0m indexer \u001b[39m=\u001b[39m \u001b[39mself\u001b[39;49m\u001b[39m.\u001b[39;49mcolumns\u001b[39m.\u001b[39;49mget_loc(key)\n\u001b[1;32m   3506\u001b[0m \u001b[39mif\u001b[39;00m is_integer(indexer):\n\u001b[1;32m   3507\u001b[0m     indexer \u001b[39m=\u001b[39m [indexer]\n",
      "File \u001b[0;32m~/.local/lib/python3.10/site-packages/pandas/core/indexes/base.py:3623\u001b[0m, in \u001b[0;36mIndex.get_loc\u001b[0;34m(self, key, method, tolerance)\u001b[0m\n\u001b[1;32m   3621\u001b[0m     \u001b[39mreturn\u001b[39;00m \u001b[39mself\u001b[39m\u001b[39m.\u001b[39m_engine\u001b[39m.\u001b[39mget_loc(casted_key)\n\u001b[1;32m   3622\u001b[0m \u001b[39mexcept\u001b[39;00m \u001b[39mKeyError\u001b[39;00m \u001b[39mas\u001b[39;00m err:\n\u001b[0;32m-> 3623\u001b[0m     \u001b[39mraise\u001b[39;00m \u001b[39mKeyError\u001b[39;00m(key) \u001b[39mfrom\u001b[39;00m \u001b[39merr\u001b[39;00m\n\u001b[1;32m   3624\u001b[0m \u001b[39mexcept\u001b[39;00m \u001b[39mTypeError\u001b[39;00m:\n\u001b[1;32m   3625\u001b[0m     \u001b[39m# If we have a listlike key, _check_indexing_error will raise\u001b[39;00m\n\u001b[1;32m   3626\u001b[0m     \u001b[39m#  InvalidIndexError. Otherwise we fall through and re-raise\u001b[39;00m\n\u001b[1;32m   3627\u001b[0m     \u001b[39m#  the TypeError.\u001b[39;00m\n\u001b[1;32m   3628\u001b[0m     \u001b[39mself\u001b[39m\u001b[39m.\u001b[39m_check_indexing_error(key)\n",
      "\u001b[0;31mKeyError\u001b[0m: 'test_status'"
     ]
    }
   ],
   "source": [
    "combined_data[combined_data['test_status'] == 'na']['covid_status'].value_counts()"
   ]
  },
  {
   "attachments": {},
   "cell_type": "markdown",
   "metadata": {},
   "source": [
    "We can observe that the 'na' label for the `test_status` column, used to indicate that the test was not performed, matches in most cases with the 'healthy' label in the `covid_status` column.  \n",
    "Let's used this label as a 'n' label for the `test_status` column."
   ]
  },
  {
   "cell_type": "code",
   "execution_count": 9,
   "metadata": {},
   "outputs": [
    {
     "data": {
      "text/plain": [
       "p    681\n",
       "n    571\n",
       "Name: test_status, dtype: int64"
      ]
     },
     "execution_count": 9,
     "metadata": {},
     "output_type": "execute_result"
    }
   ],
   "source": [
    "combined_data.loc[combined_data['test_status'] == 'na', 'test_status'] = 'n'\n",
    "combined_data['test_status'].value_counts()"
   ]
  },
  {
   "attachments": {},
   "cell_type": "markdown",
   "metadata": {},
   "source": [
    "Now let's update the labels for the `covid_status` column to only have two labels: 'positive' and 'healthy'."
   ]
  },
  {
   "cell_type": "code",
   "execution_count": 10,
   "metadata": {},
   "outputs": [
    {
     "data": {
      "text/plain": [
       "healthy                        1433\n",
       "positive_mild                   426\n",
       "no_resp_illness_exposed         248\n",
       "positive_moderate               165\n",
       "resp_illness_not_identified     157\n",
       "recovered_full                  146\n",
       "positive_asymp                   90\n",
       "Name: covid_status, dtype: int64"
      ]
     },
     "execution_count": 10,
     "metadata": {},
     "output_type": "execute_result"
    }
   ],
   "source": [
    "combined_data['covid_status'].value_counts()"
   ]
  },
  {
   "cell_type": "code",
   "execution_count": 11,
   "metadata": {},
   "outputs": [
    {
     "data": {
      "text/plain": [
       "healthy                        1706\n",
       "positive                        681\n",
       "no_resp_illness_exposed          87\n",
       "resp_illness_not_identified      75\n",
       "positive_mild                    72\n",
       "recovered_full                   21\n",
       "positive_asymp                   14\n",
       "positive_moderate                 9\n",
       "Name: covid_status, dtype: int64"
      ]
     },
     "execution_count": 11,
     "metadata": {},
     "output_type": "execute_result"
    }
   ],
   "source": [
    "combined_data.loc[combined_data['test_status'] == 'n', 'covid_status'] = 'healthy'\n",
    "combined_data.loc[combined_data['test_status'] == 'p', 'covid_status'] = 'positive'\n",
    "combined_data['covid_status'].value_counts()"
   ]
  },
  {
   "attachments": {},
   "cell_type": "markdown",
   "metadata": {},
   "source": [
    "We can observe that some labels in the `covid_status` column are still present. Let's check what can be done with them."
   ]
  },
  {
   "cell_type": "code",
   "execution_count": 12,
   "metadata": {},
   "outputs": [
    {
     "data": {
      "text/plain": [
       "0"
      ]
     },
     "execution_count": 12,
     "metadata": {},
     "output_type": "execute_result"
    }
   ],
   "source": [
    "combined_data[(combined_data['covid_status'] != 'healthy') & (combined_data['covid_status'] != 'positive')]['test_status'].notna().sum()"
   ]
  },
  {
   "attachments": {},
   "cell_type": "markdown",
   "metadata": {},
   "source": [
    "`test_status` column is set to NaN for all the rows with a different label in the `covid_status` column than 'positive' or 'healthy'.  \n",
    "For now, let's remove the rows with these labels."
   ]
  },
  {
   "cell_type": "code",
   "execution_count": 13,
   "metadata": {},
   "outputs": [
    {
     "data": {
      "text/plain": [
       "healthy     1706\n",
       "positive     681\n",
       "Name: covid_status, dtype: int64"
      ]
     },
     "execution_count": 13,
     "metadata": {},
     "output_type": "execute_result"
    }
   ],
   "source": [
    "combined_data = combined_data[(combined_data['covid_status'] == 'healthy') | (combined_data['covid_status'] == 'positive')]\n",
    "combined_data['covid_status'].value_counts()"
   ]
  },
  {
   "cell_type": "code",
   "execution_count": 14,
   "metadata": {},
   "outputs": [
    {
     "data": {
      "text/plain": [
       "0"
      ]
     },
     "execution_count": 14,
     "metadata": {},
     "output_type": "execute_result"
    }
   ],
   "source": [
    "combined_data['covid_status'].isna().sum()"
   ]
  },
  {
   "attachments": {},
   "cell_type": "markdown",
   "metadata": {},
   "source": [
    "We can observe that there is no NaN value in the `covid_status` column, we can now remove the `test_status` column."
   ]
  },
  {
   "cell_type": "code",
   "execution_count": 15,
   "metadata": {},
   "outputs": [
    {
     "data": {
      "text/html": [
       "<div>\n",
       "<style scoped>\n",
       "    .dataframe tbody tr th:only-of-type {\n",
       "        vertical-align: middle;\n",
       "    }\n",
       "\n",
       "    .dataframe tbody tr th {\n",
       "        vertical-align: top;\n",
       "    }\n",
       "\n",
       "    .dataframe thead th {\n",
       "        text-align: right;\n",
       "    }\n",
       "</style>\n",
       "<table border=\"1\" class=\"dataframe\">\n",
       "  <thead>\n",
       "    <tr style=\"text-align: right;\">\n",
       "      <th></th>\n",
       "      <th>id</th>\n",
       "      <th>a</th>\n",
       "      <th>g</th>\n",
       "      <th>covid_status</th>\n",
       "      <th>asthma</th>\n",
       "      <th>cough</th>\n",
       "      <th>smoker</th>\n",
       "    </tr>\n",
       "  </thead>\n",
       "  <tbody>\n",
       "    <tr>\n",
       "      <th>0</th>\n",
       "      <td>iV3Db6t1T8b7c5HQY2TwxIhjbzD3</td>\n",
       "      <td>28</td>\n",
       "      <td>male</td>\n",
       "      <td>healthy</td>\n",
       "      <td>NaN</td>\n",
       "      <td>NaN</td>\n",
       "      <td>NaN</td>\n",
       "    </tr>\n",
       "    <tr>\n",
       "      <th>1</th>\n",
       "      <td>AxuYWBN0jFVLINCBqIW5aZmGCdu1</td>\n",
       "      <td>25</td>\n",
       "      <td>male</td>\n",
       "      <td>healthy</td>\n",
       "      <td>NaN</td>\n",
       "      <td>NaN</td>\n",
       "      <td>True</td>\n",
       "    </tr>\n",
       "    <tr>\n",
       "      <th>2</th>\n",
       "      <td>C5eIsssb9GSkaAgIfsHMHeR6fSh1</td>\n",
       "      <td>28</td>\n",
       "      <td>female</td>\n",
       "      <td>healthy</td>\n",
       "      <td>NaN</td>\n",
       "      <td>NaN</td>\n",
       "      <td>NaN</td>\n",
       "    </tr>\n",
       "    <tr>\n",
       "      <th>3</th>\n",
       "      <td>YjbEAECMBIaZKyfqOvWy5DDImUb2</td>\n",
       "      <td>26</td>\n",
       "      <td>male</td>\n",
       "      <td>healthy</td>\n",
       "      <td>NaN</td>\n",
       "      <td>NaN</td>\n",
       "      <td>NaN</td>\n",
       "    </tr>\n",
       "    <tr>\n",
       "      <th>4</th>\n",
       "      <td>aGOvk4ji0cVqIzCs1jHnzlw2UEy2</td>\n",
       "      <td>32</td>\n",
       "      <td>male</td>\n",
       "      <td>healthy</td>\n",
       "      <td>NaN</td>\n",
       "      <td>NaN</td>\n",
       "      <td>NaN</td>\n",
       "    </tr>\n",
       "  </tbody>\n",
       "</table>\n",
       "</div>"
      ],
      "text/plain": [
       "                             id   a       g covid_status asthma cough smoker\n",
       "0  iV3Db6t1T8b7c5HQY2TwxIhjbzD3  28    male      healthy    NaN   NaN    NaN\n",
       "1  AxuYWBN0jFVLINCBqIW5aZmGCdu1  25    male      healthy    NaN   NaN   True\n",
       "2  C5eIsssb9GSkaAgIfsHMHeR6fSh1  28  female      healthy    NaN   NaN    NaN\n",
       "3  YjbEAECMBIaZKyfqOvWy5DDImUb2  26    male      healthy    NaN   NaN    NaN\n",
       "4  aGOvk4ji0cVqIzCs1jHnzlw2UEy2  32    male      healthy    NaN   NaN    NaN"
      ]
     },
     "execution_count": 15,
     "metadata": {},
     "output_type": "execute_result"
    }
   ],
   "source": [
    "combined_data = combined_data[combined_data.columns[~combined_data.columns.isin(['test_status'])]]\n",
    "combined_data.head()"
   ]
  },
  {
   "cell_type": "code",
   "execution_count": 16,
   "metadata": {},
   "outputs": [
    {
     "data": {
      "text/plain": [
       "2387"
      ]
     },
     "execution_count": 16,
     "metadata": {},
     "output_type": "execute_result"
    }
   ],
   "source": [
    "len(combined_data)"
   ]
  },
  {
   "cell_type": "code",
   "execution_count": 17,
   "metadata": {},
   "outputs": [
    {
     "data": {
      "text/plain": [
       "(healthy     1091\n",
       " positive     436\n",
       " Name: covid_status, dtype: int64,\n",
       " healthy     273\n",
       " positive    109\n",
       " Name: covid_status, dtype: int64,\n",
       " healthy     342\n",
       " positive    136\n",
       " Name: covid_status, dtype: int64)"
      ]
     },
     "execution_count": 17,
     "metadata": {},
     "output_type": "execute_result"
    }
   ],
   "source": [
    "from sklearn.model_selection import train_test_split\n",
    "\n",
    "train, test = train_test_split(combined_data, test_size=0.2, random_state=42, stratify=combined_data['covid_status'])\n",
    "train, val = train_test_split(train, test_size=0.2, random_state=42, stratify=train['covid_status'])\n",
    "\n",
    "train['covid_status'].value_counts(), val['covid_status'].value_counts(), test['covid_status'].value_counts()"
   ]
  },
  {
   "attachments": {},
   "cell_type": "markdown",
   "metadata": {},
   "source": [
    "# Transform audio files to mel-spectrograms"
   ]
  },
  {
   "cell_type": "code",
   "execution_count": 18,
   "metadata": {},
   "outputs": [],
   "source": [
    "import os\n",
    "\n",
    "audio_folder = 'Coswara-Data/Extracted_data'\n",
    "\n",
    "train_ids = train['id'].values\n",
    "val_ids = val['id'].values\n",
    "test_ids = test['id'].values\n",
    "\n",
    "train_audio_folder = []\n",
    "val_audio_folder = []\n",
    "test_audio_folder = []\n",
    "\n",
    "for folder1 in os.listdir(audio_folder):\n",
    "    for folder2 in os.listdir(os.path.join(audio_folder, folder1)):\n",
    "        if folder2 in train_ids:\n",
    "            train_audio_folder.append(os.path.join(audio_folder, folder1, folder2))\n",
    "        elif folder2 in val_ids:\n",
    "            val_audio_folder.append(os.path.join(audio_folder, folder1, folder2))\n",
    "        elif folder2 in test_ids:\n",
    "            test_audio_folder.append(os.path.join(audio_folder, folder1, folder2))\n",
    "            \n",
    "assert len(train_audio_folder) == len(train_ids)\n",
    "assert len(val_audio_folder) == len(val_ids)\n",
    "assert len(test_audio_folder) == len(test_ids)"
   ]
  },
  {
   "cell_type": "code",
   "execution_count": 19,
   "metadata": {},
   "outputs": [
    {
     "name": "stderr",
     "output_type": "stream",
     "text": [
      "/home/leme/.local/lib/python3.10/site-packages/requests/__init__.py:102: RequestsDependencyWarning: urllib3 (1.26.9) or chardet (5.1.0)/charset_normalizer (2.0.12) doesn't match a supported version!\n",
      "  warnings.warn(\"urllib3 ({}) or chardet ({})/charset_normalizer ({}) doesn't match a supported \"\n"
     ]
    },
    {
     "name": "stdout",
     "output_type": "stream",
     "text": [
      "img.shape: (128, 320)\n",
      "Coswara-Data/Extracted_data/20200413/2TkAK2YVkYS7Ux3hAPBUgYgg9DI3/cough-heavy.wav.png\n"
     ]
    }
   ],
   "source": [
    "import librosa\n",
    "import skimage\n",
    "import numpy as np\n",
    "\n",
    "# Settings\n",
    "n_mels = 128 # Number of Mel banks to generate\n",
    "n_fft = 2048 # Interval we consider to apply FFT. Measured in # of samples\n",
    "hop_length = 512 # Sliding window for FFT. Measured in # of samples\n",
    "fmax = 8000 # Maximum frequency we want to consider\n",
    "time_steps = 128 # Number of time steps used in the image\n",
    "\n",
    "def scale_minmax(X, min=0.0, max=1.0):\n",
    "    X_std = (X - X.min()) / (X.max() - X.min())\n",
    "    X_scaled = X_std * (max - min) + min\n",
    "    return X_scaled\n",
    "\n",
    "def extract_melspectrogram_image(audio_folder, audio_name):\n",
    "    audio, sr = librosa.load(os.path.join(audio_folder, audio_name))\n",
    "    melspectrogram = librosa.feature.melspectrogram(y=audio, sr=sr, n_mels=n_mels, n_fft=n_fft, hop_length=hop_length, fmax=fmax)\n",
    "    melspectrogram = np.log(melspectrogram + 1e-9)\n",
    "    img = scale_minmax(melspectrogram, 0, 255).astype(np.uint8)\n",
    "    img = np.flip(img, axis=0)\n",
    "    img = 255 - img\n",
    "    \n",
    "    print('img.shape:', img.shape)\n",
    "    print(os.path.join(audio_folder, audio_name + '.png'))\n",
    "    skimage.io.imsave(os.path.join(audio_folder, audio_name + '.png'), img)\n",
    "\n",
    "extract_melspectrogram_image(train_audio_folder[1], 'cough-heavy.wav')"
   ]
  },
  {
   "cell_type": "code",
   "execution_count": 20,
   "metadata": {},
   "outputs": [],
   "source": [
    "def extract_melspectrogram(audio_folder, audio_name):\n",
    "    audio, sr = librosa.load(os.path.join(audio_folder, audio_name))\n",
    "    melspectrogram = librosa.feature.melspectrogram(y=audio, sr=sr, n_mels=n_mels, n_fft=n_fft, hop_length=hop_length, fmax=fmax)\n",
    "    melspectrogram = np.log(melspectrogram + 1e-9) # add small number to avoid log(0)\n",
    "    return melspectrogram"
   ]
  },
  {
   "cell_type": "code",
   "execution_count": 21,
   "metadata": {},
   "outputs": [
    {
     "name": "stdout",
     "output_type": "stream",
     "text": [
      "Extracting melspectrogram for train set...\n"
     ]
    },
    {
     "name": "stderr",
     "output_type": "stream",
     "text": [
      " 10%|█         | 160/1527 [01:07<09:26,  2.41it/s]/home/leme/.local/lib/python3.10/site-packages/librosa/util/decorators.py:88: UserWarning: PySoundFile failed. Trying audioread instead.\n",
      "  return f(*args, **kwargs)\n",
      " 81%|████████  | 1237/1527 [08:53<02:02,  2.37it/s]/home/leme/.local/lib/python3.10/site-packages/librosa/util/decorators.py:88: UserWarning: n_fft=2048 is too small for input signal of length=1882\n",
      "  return f(*args, **kwargs)\n",
      "100%|██████████| 1527/1527 [10:59<00:00,  2.31it/s]\n"
     ]
    },
    {
     "name": "stdout",
     "output_type": "stream",
     "text": [
      "Extracting melspectrogram for validation set...\n"
     ]
    },
    {
     "name": "stderr",
     "output_type": "stream",
     "text": [
      "100%|██████████| 382/382 [02:55<00:00,  2.17it/s]\n"
     ]
    },
    {
     "name": "stdout",
     "output_type": "stream",
     "text": [
      "Extracting melspectrogram for test set...\n"
     ]
    },
    {
     "name": "stderr",
     "output_type": "stream",
     "text": [
      "100%|██████████| 478/478 [03:42<00:00,  2.15it/s]\n"
     ]
    }
   ],
   "source": [
    "from tqdm import tqdm\n",
    "\n",
    "train_melspectrogram = []\n",
    "val_melspectrogram = []\n",
    "test_melspectrogram = []\n",
    "\n",
    "audio_names = ['cough-heavy.wav', 'cough-shallow.wav']\n",
    "\n",
    "print('Extracting melspectrogram for train set...')\n",
    "for folder in tqdm(train_audio_folder):\n",
    "    for audio_name in audio_names:\n",
    "        try:\n",
    "            train_melspectrogram.append((extract_melspectrogram(folder, audio_name), train[train['id'] == folder.split('/')[-1]]['covid_status'].values[0]))\n",
    "        except:\n",
    "            continue\n",
    "\n",
    "print('Extracting melspectrogram for validation set...')\n",
    "for folder in tqdm(val_audio_folder):\n",
    "    for audio_name in audio_names:\n",
    "        try:\n",
    "            val_melspectrogram.append((extract_melspectrogram(folder, audio_name) , val[val['id'] == folder.split('/')[-1]]['covid_status'].values[0]))\n",
    "        except:\n",
    "            continue\n",
    "\n",
    "print('Extracting melspectrogram for test set...')\n",
    "for folder in tqdm(test_audio_folder):\n",
    "    for audio_name in audio_names:\n",
    "        try:\n",
    "            test_melspectrogram.append((extract_melspectrogram(folder, audio_name), test[test['id'] == folder.split('/')[-1]]['covid_status'].values[0]))\n",
    "        except:\n",
    "            continue"
   ]
  },
  {
   "cell_type": "code",
   "execution_count": 69,
   "metadata": {},
   "outputs": [
    {
     "name": "stdout",
     "output_type": "stream",
     "text": [
      "Model: \"sequential_2\"\n",
      "_________________________________________________________________\n",
      " Layer (type)                Output Shape              Param #   \n",
      "=================================================================\n",
      " conv2d_6 (Conv2D)           (None, 126, 126, 16)      160       \n",
      "                                                                 \n",
      " max_pooling2d_6 (MaxPooling  (None, 63, 63, 16)       0         \n",
      " 2D)                                                             \n",
      "                                                                 \n",
      " conv2d_7 (Conv2D)           (None, 61, 61, 32)        4640      \n",
      "                                                                 \n",
      " max_pooling2d_7 (MaxPooling  (None, 30, 30, 32)       0         \n",
      " 2D)                                                             \n",
      "                                                                 \n",
      " conv2d_8 (Conv2D)           (None, 28, 28, 64)        18496     \n",
      "                                                                 \n",
      " max_pooling2d_8 (MaxPooling  (None, 14, 14, 64)       0         \n",
      " 2D)                                                             \n",
      "                                                                 \n",
      " flatten_2 (Flatten)         (None, 12544)             0         \n",
      "                                                                 \n",
      " dense_4 (Dense)             (None, 128)               1605760   \n",
      "                                                                 \n",
      " dense_5 (Dense)             (None, 2)                 258       \n",
      "                                                                 \n",
      "=================================================================\n",
      "Total params: 1,629,314\n",
      "Trainable params: 1,629,314\n",
      "Non-trainable params: 0\n",
      "_________________________________________________________________\n"
     ]
    }
   ],
   "source": [
    "import tensorflow as tf\n",
    "\n",
    "def create_model():\n",
    "    model = tf.keras.Sequential([\n",
    "        tf.keras.layers.Conv2D(16, 3, activation='relu', input_shape=(128, 128, 1)),\n",
    "        tf.keras.layers.MaxPooling2D(),\n",
    "        tf.keras.layers.Conv2D(32, 3, activation='relu'),\n",
    "        tf.keras.layers.MaxPooling2D(),\n",
    "        tf.keras.layers.Conv2D(64, 3, activation='relu'),\n",
    "        tf.keras.layers.MaxPooling2D(),\n",
    "        tf.keras.layers.Flatten(),\n",
    "        tf.keras.layers.Dense(128, activation='relu'),\n",
    "        tf.keras.layers.Dense(2, activation='softmax')\n",
    "    ])\n",
    "    \n",
    "    model.compile(optimizer='adam',\n",
    "                  loss='sparse_categorical_crossentropy',\n",
    "                  metrics=['accuracy'])\n",
    "    \n",
    "    return model\n",
    "\n",
    "model = create_model()\n",
    "model.summary()"
   ]
  },
  {
   "cell_type": "code",
   "execution_count": 41,
   "metadata": {},
   "outputs": [],
   "source": [
    "# Get the labels\n",
    "train_labels = np.array([label for _, label in train_melspectrogram])\n",
    "val_labels = np.array([label for _, label in val_melspectrogram])\n",
    "test_labels = np.array([label for _, label in test_melspectrogram])"
   ]
  },
  {
   "cell_type": "code",
   "execution_count": 50,
   "metadata": {},
   "outputs": [
    {
     "ename": "ValueError",
     "evalue": "too many values to unpack (expected 2)",
     "output_type": "error",
     "traceback": [
      "\u001b[0;31m---------------------------------------------------------------------------\u001b[0m",
      "\u001b[0;31mValueError\u001b[0m                                Traceback (most recent call last)",
      "\u001b[1;32m/mnt/h/MLBIO/project.ipynb Cell 33\u001b[0m in \u001b[0;36m<cell line: 5>\u001b[0;34m()\u001b[0m\n\u001b[1;32m      <a href='vscode-notebook-cell://wsl%2Bubuntu/mnt/h/MLBIO/project.ipynb#Y100sdnNjb2RlLXJlbW90ZQ%3D%3D?line=1'>2</a>\u001b[0m     \u001b[39mreturn\u001b[39;00m skimage\u001b[39m.\u001b[39mtransform\u001b[39m.\u001b[39mresize(melspectrogram, (\u001b[39m128\u001b[39m, \u001b[39m128\u001b[39m))\n\u001b[1;32m      <a href='vscode-notebook-cell://wsl%2Bubuntu/mnt/h/MLBIO/project.ipynb#Y100sdnNjb2RlLXJlbW90ZQ%3D%3D?line=3'>4</a>\u001b[0m \u001b[39m# Resize the melspectrogram\u001b[39;00m\n\u001b[0;32m----> <a href='vscode-notebook-cell://wsl%2Bubuntu/mnt/h/MLBIO/project.ipynb#Y100sdnNjb2RlLXJlbW90ZQ%3D%3D?line=4'>5</a>\u001b[0m train_melspectrogram \u001b[39m=\u001b[39m np\u001b[39m.\u001b[39marray([resize_melspectrogram(melspectrogram) \u001b[39mfor\u001b[39;00m melspectrogram, _ \u001b[39min\u001b[39;00m train_melspectrogram])\n\u001b[1;32m      <a href='vscode-notebook-cell://wsl%2Bubuntu/mnt/h/MLBIO/project.ipynb#Y100sdnNjb2RlLXJlbW90ZQ%3D%3D?line=5'>6</a>\u001b[0m val_melspectrogram \u001b[39m=\u001b[39m np\u001b[39m.\u001b[39marray([resize_melspectrogram(melspectrogram) \u001b[39mfor\u001b[39;00m melspectrogram, _ \u001b[39min\u001b[39;00m val_melspectrogram])\n\u001b[1;32m      <a href='vscode-notebook-cell://wsl%2Bubuntu/mnt/h/MLBIO/project.ipynb#Y100sdnNjb2RlLXJlbW90ZQ%3D%3D?line=6'>7</a>\u001b[0m test_melspectrogram \u001b[39m=\u001b[39m np\u001b[39m.\u001b[39marray([resize_melspectrogram(melspectrogram) \u001b[39mfor\u001b[39;00m melspectrogram, _ \u001b[39min\u001b[39;00m test_melspectrogram])\n",
      "\u001b[1;32m/mnt/h/MLBIO/project.ipynb Cell 33\u001b[0m in \u001b[0;36m<listcomp>\u001b[0;34m(.0)\u001b[0m\n\u001b[1;32m      <a href='vscode-notebook-cell://wsl%2Bubuntu/mnt/h/MLBIO/project.ipynb#Y100sdnNjb2RlLXJlbW90ZQ%3D%3D?line=1'>2</a>\u001b[0m     \u001b[39mreturn\u001b[39;00m skimage\u001b[39m.\u001b[39mtransform\u001b[39m.\u001b[39mresize(melspectrogram, (\u001b[39m128\u001b[39m, \u001b[39m128\u001b[39m))\n\u001b[1;32m      <a href='vscode-notebook-cell://wsl%2Bubuntu/mnt/h/MLBIO/project.ipynb#Y100sdnNjb2RlLXJlbW90ZQ%3D%3D?line=3'>4</a>\u001b[0m \u001b[39m# Resize the melspectrogram\u001b[39;00m\n\u001b[0;32m----> <a href='vscode-notebook-cell://wsl%2Bubuntu/mnt/h/MLBIO/project.ipynb#Y100sdnNjb2RlLXJlbW90ZQ%3D%3D?line=4'>5</a>\u001b[0m train_melspectrogram \u001b[39m=\u001b[39m np\u001b[39m.\u001b[39marray([resize_melspectrogram(melspectrogram) \u001b[39mfor\u001b[39;00m melspectrogram, _ \u001b[39min\u001b[39;00m train_melspectrogram])\n\u001b[1;32m      <a href='vscode-notebook-cell://wsl%2Bubuntu/mnt/h/MLBIO/project.ipynb#Y100sdnNjb2RlLXJlbW90ZQ%3D%3D?line=5'>6</a>\u001b[0m val_melspectrogram \u001b[39m=\u001b[39m np\u001b[39m.\u001b[39marray([resize_melspectrogram(melspectrogram) \u001b[39mfor\u001b[39;00m melspectrogram, _ \u001b[39min\u001b[39;00m val_melspectrogram])\n\u001b[1;32m      <a href='vscode-notebook-cell://wsl%2Bubuntu/mnt/h/MLBIO/project.ipynb#Y100sdnNjb2RlLXJlbW90ZQ%3D%3D?line=6'>7</a>\u001b[0m test_melspectrogram \u001b[39m=\u001b[39m np\u001b[39m.\u001b[39marray([resize_melspectrogram(melspectrogram) \u001b[39mfor\u001b[39;00m melspectrogram, _ \u001b[39min\u001b[39;00m test_melspectrogram])\n",
      "\u001b[0;31mValueError\u001b[0m: too many values to unpack (expected 2)"
     ]
    }
   ],
   "source": [
    "def resize_melspectrogram(melspectrogram):\n",
    "    return skimage.transform.resize(melspectrogram, (128, 128))\n",
    "\n",
    "# Resize the melspectrogram\n",
    "train_melspectrogram = np.array([resize_melspectrogram(melspectrogram) for melspectrogram, _ in train_melspectrogram])"
   ]
  },
  {
   "cell_type": "code",
   "execution_count": 51,
   "metadata": {},
   "outputs": [],
   "source": [
    "val_melspectrogram = np.array([resize_melspectrogram(melspectrogram) for melspectrogram, _ in val_melspectrogram])\n",
    "test_melspectrogram = np.array([resize_melspectrogram(melspectrogram) for melspectrogram, _ in test_melspectrogram])"
   ]
  },
  {
   "cell_type": "code",
   "execution_count": 54,
   "metadata": {},
   "outputs": [],
   "source": [
    "# Binarize the healthy and positive labels\n",
    "train_labels[train_labels == 'healthy'] = 0\n",
    "train_labels[train_labels == 'positive'] = 1\n",
    "\n",
    "val_labels[val_labels == 'healthy'] = 0\n",
    "val_labels[val_labels == 'positive'] = 1\n",
    "\n",
    "test_labels[test_labels == 'healthy'] = 0\n",
    "test_labels[test_labels == 'positive'] = 1"
   ]
  },
  {
   "cell_type": "code",
   "execution_count": 58,
   "metadata": {},
   "outputs": [
    {
     "name": "stderr",
     "output_type": "stream",
     "text": [
      "/tmp/ipykernel_5590/968790740.py:1: DeprecationWarning: `np.int` is a deprecated alias for the builtin `int`. To silence this warning, use `int` by itself. Doing this will not modify any behavior and is safe. When replacing `np.int`, you may wish to use e.g. `np.int64` or `np.int32` to specify the precision. If you wish to review your current use, check the release note link for additional information.\n",
      "Deprecated in NumPy 1.20; for more details and guidance: https://numpy.org/devdocs/release/1.20.0-notes.html#deprecations\n",
      "  train_labels = train_labels.astype(np.int)\n",
      "/tmp/ipykernel_5590/968790740.py:2: DeprecationWarning: `np.int` is a deprecated alias for the builtin `int`. To silence this warning, use `int` by itself. Doing this will not modify any behavior and is safe. When replacing `np.int`, you may wish to use e.g. `np.int64` or `np.int32` to specify the precision. If you wish to review your current use, check the release note link for additional information.\n",
      "Deprecated in NumPy 1.20; for more details and guidance: https://numpy.org/devdocs/release/1.20.0-notes.html#deprecations\n",
      "  val_labels = val_labels.astype(np.int)\n",
      "/tmp/ipykernel_5590/968790740.py:3: DeprecationWarning: `np.int` is a deprecated alias for the builtin `int`. To silence this warning, use `int` by itself. Doing this will not modify any behavior and is safe. When replacing `np.int`, you may wish to use e.g. `np.int64` or `np.int32` to specify the precision. If you wish to review your current use, check the release note link for additional information.\n",
      "Deprecated in NumPy 1.20; for more details and guidance: https://numpy.org/devdocs/release/1.20.0-notes.html#deprecations\n",
      "  test_labels = test_labels.astype(np.int)\n"
     ]
    }
   ],
   "source": [
    "train_labels = train_labels.astype(np.int)\n",
    "val_labels = val_labels.astype(np.int)\n",
    "test_labels = test_labels.astype(np.int)"
   ]
  },
  {
   "cell_type": "code",
   "execution_count": 70,
   "metadata": {},
   "outputs": [],
   "source": [
    "# Normalize the melspectrogram\n",
    "train_melspectrogram = train_melspectrogram / train_melspectrogram.max()\n",
    "val_melspectrogram = val_melspectrogram / val_melspectrogram.max()\n",
    "test_melspectrogram = test_melspectrogram / test_melspectrogram.max()\n"
   ]
  },
  {
   "cell_type": "code",
   "execution_count": 71,
   "metadata": {},
   "outputs": [
    {
     "name": "stdout",
     "output_type": "stream",
     "text": [
      "Epoch 1/10\n",
      "95/95 [==============================] - 15s 158ms/step - loss: 0.6188 - accuracy: 0.7083 - val_loss: 0.5885 - val_accuracy: 0.7093\n",
      "Epoch 2/10\n",
      "95/95 [==============================] - 15s 156ms/step - loss: 0.5864 - accuracy: 0.7252 - val_loss: 0.5723 - val_accuracy: 0.7173\n",
      "Epoch 3/10\n",
      "95/95 [==============================] - 15s 157ms/step - loss: 0.5553 - accuracy: 0.7358 - val_loss: 0.5588 - val_accuracy: 0.7400\n",
      "Epoch 4/10\n",
      "95/95 [==============================] - 14s 149ms/step - loss: 0.5294 - accuracy: 0.7544 - val_loss: 0.5623 - val_accuracy: 0.7240\n",
      "Epoch 5/10\n",
      "95/95 [==============================] - 14s 149ms/step - loss: 0.5029 - accuracy: 0.7647 - val_loss: 0.5482 - val_accuracy: 0.7480\n",
      "Epoch 6/10\n",
      "95/95 [==============================] - 14s 153ms/step - loss: 0.4767 - accuracy: 0.7885 - val_loss: 0.5372 - val_accuracy: 0.7493\n",
      "Epoch 7/10\n",
      "95/95 [==============================] - 15s 155ms/step - loss: 0.4481 - accuracy: 0.7985 - val_loss: 0.5866 - val_accuracy: 0.7093\n",
      "Epoch 8/10\n",
      "95/95 [==============================] - 15s 157ms/step - loss: 0.4020 - accuracy: 0.8257 - val_loss: 0.6066 - val_accuracy: 0.7333\n",
      "Epoch 9/10\n",
      "95/95 [==============================] - 15s 156ms/step - loss: 0.3675 - accuracy: 0.8419 - val_loss: 0.6373 - val_accuracy: 0.7120\n",
      "Epoch 10/10\n",
      "95/95 [==============================] - 13s 141ms/step - loss: 0.3018 - accuracy: 0.8681 - val_loss: 0.7791 - val_accuracy: 0.7067\n"
     ]
    }
   ],
   "source": [
    "# Train the model\n",
    "epochs = 10\n",
    "history = model.fit(train_melspectrogram, train_labels, batch_size=32, epochs=epochs, validation_data=(val_melspectrogram, val_labels))"
   ]
  },
  {
   "cell_type": "code",
   "execution_count": 72,
   "metadata": {},
   "outputs": [
    {
     "data": {
      "text/plain": [
       "Text(0.5, 1.0, 'Training and Validation Loss')"
      ]
     },
     "execution_count": 72,
     "metadata": {},
     "output_type": "execute_result"
    },
    {
     "data": {
      "image/png": "[encoded data removed]",
      "text/plain": [
       "<Figure size 576x576 with 2 Axes>"
      ]
     },
     "metadata": {
      "needs_background": "light"
     },
     "output_type": "display_data"
    }
   ],
   "source": [
    "# Plot the training and validation accuracy/loss per epoch\n",
    "import matplotlib.pyplot as plt\n",
    "\n",
    "acc = history.history['accuracy']\n",
    "val_acc = history.history['val_accuracy']\n",
    "\n",
    "val_loss = history.history['val_loss']\n",
    "\n",
    "epochs_range = range(epochs)\n",
    "\n",
    "plt.figure(figsize=(8, 8))\n",
    "plt.subplot(1, 2, 1)\n",
    "plt.plot(epochs_range, acc, label='Training Accuracy')\n",
    "plt.plot(epochs_range, val_acc, label='Validation Accuracy')\n",
    "plt.legend(loc='lower right')\n",
    "plt.title('Training and Validation Accuracy')\n",
    "\n",
    "plt.subplot(1, 2, 2)\n",
    "plt.plot(epochs_range, loss, label='Training Loss')\n",
    "plt.plot(epochs_range, val_loss, label='Validation Loss')\n",
    "plt.legend(loc='upper right')\n",
    "plt.title('Training and Validation Loss')"
   ]
  },
  {
   "cell_type": "code",
   "execution_count": 73,
   "metadata": {},
   "outputs": [
    {
     "name": "stdout",
     "output_type": "stream",
     "text": [
      "30/30 [==============================] - 1s 26ms/step - loss: 0.8461 - accuracy: 0.7103\n"
     ]
    },
    {
     "data": {
      "text/plain": [
       "[0.8461306691169739, 0.7103301286697388]"
      ]
     },
     "execution_count": 73,
     "metadata": {},
     "output_type": "execute_result"
    }
   ],
   "source": [
    "# Evaluate the model\n",
    "model.evaluate(test_melspectrogram, test_labels)"
   ]
  },
  {
   "cell_type": "code",
   "execution_count": 74,
   "metadata": {},
   "outputs": [
    {
     "data": {
      "text/plain": [
       "<AxesSubplot:>"
      ]
     },
     "execution_count": 74,
     "metadata": {},
     "output_type": "execute_result"
    },
    {
     "data": {
      "image/png": "[encoded data removed]",
      "text/plain": [
       "<Figure size 432x288 with 2 Axes>"
      ]
     },
     "metadata": {
      "needs_background": "light"
     },
     "output_type": "display_data"
    }
   ],
   "source": [
    "# Predict the labels\n",
    "predictions = model.predict(test_melspectrogram)\n",
    "\n",
    "# Confusion matrix for the test set\n",
    "from sklearn.metrics import confusion_matrix\n",
    "import seaborn as sns\n",
    "\n",
    "cm = confusion_matrix(test_labels, np.argmax(predictions, axis=1))\n",
    "sns.heatmap(cm, annot=True, fmt='d')"
   ]
  },
  {
   "cell_type": "code",
   "execution_count": 75,
   "metadata": {},
   "outputs": [],
   "source": [
    "# Save the model\n",
    "model.save('covid_cough_model.h5')"
   ]
  },
  {
   "cell_type": "code",
   "execution_count": null,
   "metadata": {},
   "outputs": [],
   "source": []
  }
 ],
 "metadata": {
  "kernelspec": {
   "display_name": "Python 3",
   "language": "python",
   "name": "python3"
  },
  "language_info": {
   "codemirror_mode": {
    "name": "ipython",
    "version": 3
   },
   "file_extension": ".py",
   "mimetype": "text/x-python",
   "name": "python",
   "nbconvert_exporter": "python",
   "pygments_lexer": "ipython3",
   "version": "3.10.8"
  },
  "orig_nbformat": 4,
  "vscode": {
   "interpreter": {
    "hash": "97cc609b13305c559618ec78a438abc56230b9381f827f22d070313b9a1f3777"
   }
  }
 },
 "nbformat": 4,
 "nbformat_minor": 2
}
